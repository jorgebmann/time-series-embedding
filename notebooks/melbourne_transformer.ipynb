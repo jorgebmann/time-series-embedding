{
  "cells": [
    {
      "cell_type": "code",
      "execution_count": null,
      "metadata": {
        "colab": {
          "base_uri": "https://localhost:8080/"
        },
        "id": "CUJ569UbVdZ3",
        "outputId": "36b04dd2-b169-4bf1-c994-cab8f96797e3"
      },
      "outputs": [
        {
          "name": "stdout",
          "output_type": "stream",
          "text": [
            "Shapes:\n",
            "  X_train: (1194, 24)  y_train: (1194,)\n",
            "  X_valid: (1219, 24)  y_valid: (1219,)\n",
            "  X_test:  (1220, 24)  y_test:  (1220,)\n"
          ]
        }
      ],
      "source": [
        "import os\n",
        "import zipfile\n",
        "import urllib.request\n",
        "import numpy as np\n",
        "import pandas as pd\n",
        "from sklearn.model_selection import train_test_split\n",
        "from sklearn.preprocessing import StandardScaler\n",
        "from scipy.io import arff\n",
        "\n",
        "DATA_DIR = 'datasets'\n",
        "os.makedirs(DATA_DIR, exist_ok=True)\n",
        "\n",
        "def download_dataset(dataset_name, url):\n",
        "    zip_path    = os.path.join(DATA_DIR, f\"{dataset_name}.zip\")\n",
        "    extract_dir = os.path.join(DATA_DIR, dataset_name)\n",
        "    urllib.request.urlretrieve(url, zip_path)\n",
        "    with zipfile.ZipFile(zip_path, 'r') as zp:\n",
        "        zp.extractall(extract_dir)\n",
        "    os.remove(zip_path)\n",
        "    return extract_dir\n",
        "\n",
        "def load_arff_data(file_path):\n",
        "    raw, meta = arff.loadarff(file_path)\n",
        "    return pd.DataFrame(raw)\n",
        "\n",
        "def preprocess_data(train_df, test_df, valid_size=0.5, random_state=42):\n",
        "    # --- 1) Separate features & labels ---\n",
        "    X_train_df = train_df.drop(columns=['target'])\n",
        "    y_train_df = train_df['target'].astype(int)\n",
        "\n",
        "    X_temp_df  = test_df.drop(columns=['target'])\n",
        "    y_temp_df  = test_df['target'].astype(int)\n",
        "\n",
        "    # --- 2) Split temp into validation & test ---\n",
        "    X_valid_df, X_test_df, y_valid_df, y_test_df = train_test_split(\n",
        "        X_temp_df, y_temp_df,\n",
        "        test_size=valid_size,\n",
        "        random_state=random_state,\n",
        "        stratify=y_temp_df\n",
        "    )\n",
        "\n",
        "    # --- 3) Normalize all features (fit on train only) ---\n",
        "    scaler = StandardScaler().fit(X_train_df)\n",
        "    X_train_df = pd.DataFrame(\n",
        "        scaler.transform(X_train_df),\n",
        "        columns=X_train_df.columns,\n",
        "        index=X_train_df.index\n",
        "    )\n",
        "    X_valid_df = pd.DataFrame(\n",
        "        scaler.transform(X_valid_df),\n",
        "        columns=X_valid_df.columns,\n",
        "        index=X_valid_df.index\n",
        "    )\n",
        "    X_test_df = pd.DataFrame(\n",
        "        scaler.transform(X_test_df),\n",
        "        columns=X_test_df.columns,\n",
        "        index=X_test_df.index\n",
        "    )\n",
        "\n",
        "    # --- 4) Return six DataFrames/Series ---\n",
        "    return X_train_df, y_train_df, X_valid_df, y_valid_df, X_test_df, y_test_df\n",
        "\n",
        "if __name__ == \"__main__\":\n",
        "    dataset_name = 'MelbournePedestrian'\n",
        "    url = 'https://timeseriesclassification.com/aeon-toolkit/MelbournePedestrian.zip'\n",
        "\n",
        "    path = download_dataset(dataset_name, url)\n",
        "    train_df = load_arff_data(os.path.join(path, f\"{dataset_name}_TRAIN.arff\"))\n",
        "    test_df  = load_arff_data(os.path.join(path, f\"{dataset_name}_TEST.arff\"))\n",
        "\n",
        "    X_train, y_train, X_valid, y_valid, X_test, y_test = preprocess_data(train_df, test_df)\n",
        "\n",
        "    print(\"Shapes:\")\n",
        "    print(\"  X_train:\", X_train.shape, \" y_train:\", y_train.shape)\n",
        "    print(\"  X_valid:\", X_valid.shape, \" y_valid:\", y_valid.shape)\n",
        "    print(\"  X_test: \", X_test.shape,  \" y_test: \", y_test.shape)\n"
      ]
    },
    {
      "cell_type": "code",
      "execution_count": 1,
      "metadata": {
        "id": "Hj1CNxODPFIz"
      },
      "outputs": [],
      "source": [
        "import time_series_embeddings1 as embd\n",
        "import clasfy_p1 as clasfy\n",
        "import clasfy_p2 as clasfy2\n",
        "import plot_umap as plt_um\n",
        "import pandas as pd\n",
        "import numpy"
      ]
    },
    {
      "cell_type": "code",
      "execution_count": null,
      "metadata": {
        "id": "0SfmWtASGgr_"
      },
      "outputs": [],
      "source": [
        "from sklearn.preprocessing import StandardScaler # Make sure StandardScaler is imported\n",
        "\n",
        "train_sc, val_sc, test_sc = std_scaling(X_train.numpy(), X_valid.numpy(), X_test.numpy()) # Remove extra indent"
      ]
    },
    {
      "cell_type": "code",
      "execution_count": 6,
      "metadata": {
        "id": "z_lVrhrrPvYC"
      },
      "outputs": [],
      "source": [
        "#Performing scaling of the datasets\n",
        "train_sc, val_sc, test_sc = embd.std_scaling(X_train, X_valid, X_test)\n",
        "#without overlapping windows\n",
        "train_sct=train_sc\n",
        "test_sct=test_sc\n",
        "val_sct=val_sc\n",
        "ny_train=y_train\n",
        "ny_test=y_test\n",
        "ny_val=y_valid\n",
        "ny_train2=y_train-1\n",
        "ny_test2=y_test-1\n",
        "ny_val2=y_valid-1\n"
      ]
    },
    {
      "cell_type": "code",
      "execution_count": 8,
      "metadata": {
        "colab": {
          "base_uri": "https://localhost:8080/",
          "height": 1000
        },
        "id": "Z7F58h5TzgW9",
        "outputId": "821c25b7-9b79-4724-8e19-6b1a17fa68c7"
      },
      "outputs": [
        {
          "name": "stdout",
          "output_type": "stream",
          "text": [
            "x_train_df shape: (1138, 24)\n",
            "y_train    shape: (1138,)\n",
            "x_val_df   shape: (1159, 24)\n",
            "y_val      shape: (1159,)\n",
            "x_test_df  shape: (1160, 24)\n",
            "y_test     shape: (1160,)\n"
          ]
        },
        {
          "data": {
            "text/html": [
              "<pre style=\"white-space:pre;overflow-x:auto;line-height:normal;font-family:Menlo,'DejaVu Sans Mono',consolas,'Courier New',monospace\"><span style=\"font-weight: bold\">Model: \"transformer_encoder\"</span>\n",
              "</pre>\n"
            ],
            "text/plain": [
              "\u001b[1mModel: \"transformer_encoder\"\u001b[0m\n"
            ]
          },
          "metadata": {},
          "output_type": "display_data"
        },
        {
          "data": {
            "text/html": [
              "<pre style=\"white-space:pre;overflow-x:auto;line-height:normal;font-family:Menlo,'DejaVu Sans Mono',consolas,'Courier New',monospace\">┏━━━━━━━━━━━━━━━━━━━━━━━━━━━━━━━━━┳━━━━━━━━━━━━━━━━━━━━━━━━┳━━━━━━━━━━━━━━━┓\n",
              "┃<span style=\"font-weight: bold\"> Layer (type)                    </span>┃<span style=\"font-weight: bold\"> Output Shape           </span>┃<span style=\"font-weight: bold\">       Param # </span>┃\n",
              "┡━━━━━━━━━━━━━━━━━━━━━━━━━━━━━━━━━╇━━━━━━━━━━━━━━━━━━━━━━━━╇━━━━━━━━━━━━━━━┩\n",
              "│ transformer_input (<span style=\"color: #0087ff; text-decoration-color: #0087ff\">InputLayer</span>)  │ (<span style=\"color: #00d7ff; text-decoration-color: #00d7ff\">None</span>, <span style=\"color: #00af00; text-decoration-color: #00af00\">24</span>, <span style=\"color: #00af00; text-decoration-color: #00af00\">1</span>)          │             <span style=\"color: #00af00; text-decoration-color: #00af00\">0</span> │\n",
              "├─────────────────────────────────┼────────────────────────┼───────────────┤\n",
              "│ input_projection (<span style=\"color: #0087ff; text-decoration-color: #0087ff\">Dense</span>)        │ (<span style=\"color: #00d7ff; text-decoration-color: #00d7ff\">None</span>, <span style=\"color: #00af00; text-decoration-color: #00af00\">24</span>, <span style=\"color: #00af00; text-decoration-color: #00af00\">64</span>)         │           <span style=\"color: #00af00; text-decoration-color: #00af00\">128</span> │\n",
              "├─────────────────────────────────┼────────────────────────┼───────────────┤\n",
              "│ sinusoidal_position_encoding    │ (<span style=\"color: #00d7ff; text-decoration-color: #00d7ff\">None</span>, <span style=\"color: #00af00; text-decoration-color: #00af00\">24</span>, <span style=\"color: #00af00; text-decoration-color: #00af00\">64</span>)         │             <span style=\"color: #00af00; text-decoration-color: #00af00\">0</span> │\n",
              "│ (<span style=\"color: #0087ff; text-decoration-color: #0087ff\">SinusoidalPositionEncoding</span>)    │                        │               │\n",
              "├─────────────────────────────────┼────────────────────────┼───────────────┤\n",
              "│ pos_dropout (<span style=\"color: #0087ff; text-decoration-color: #0087ff\">Dropout</span>)           │ (<span style=\"color: #00d7ff; text-decoration-color: #00d7ff\">None</span>, <span style=\"color: #00af00; text-decoration-color: #00af00\">24</span>, <span style=\"color: #00af00; text-decoration-color: #00af00\">64</span>)         │             <span style=\"color: #00af00; text-decoration-color: #00af00\">0</span> │\n",
              "├─────────────────────────────────┼────────────────────────┼───────────────┤\n",
              "│ transformer_block               │ (<span style=\"color: #00d7ff; text-decoration-color: #00d7ff\">None</span>, <span style=\"color: #00af00; text-decoration-color: #00af00\">24</span>, <span style=\"color: #00af00; text-decoration-color: #00af00\">64</span>)         │        <span style=\"color: #00af00; text-decoration-color: #00af00\">83,200</span> │\n",
              "│ (<span style=\"color: #0087ff; text-decoration-color: #0087ff\">TransformerBlock</span>)              │                        │               │\n",
              "├─────────────────────────────────┼────────────────────────┼───────────────┤\n",
              "│ transformer_block_1             │ (<span style=\"color: #00d7ff; text-decoration-color: #00d7ff\">None</span>, <span style=\"color: #00af00; text-decoration-color: #00af00\">24</span>, <span style=\"color: #00af00; text-decoration-color: #00af00\">64</span>)         │        <span style=\"color: #00af00; text-decoration-color: #00af00\">83,200</span> │\n",
              "│ (<span style=\"color: #0087ff; text-decoration-color: #0087ff\">TransformerBlock</span>)              │                        │               │\n",
              "├─────────────────────────────────┼────────────────────────┼───────────────┤\n",
              "│ transformer_gap                 │ (<span style=\"color: #00d7ff; text-decoration-color: #00d7ff\">None</span>, <span style=\"color: #00af00; text-decoration-color: #00af00\">64</span>)             │             <span style=\"color: #00af00; text-decoration-color: #00af00\">0</span> │\n",
              "│ (<span style=\"color: #0087ff; text-decoration-color: #0087ff\">GlobalAveragePooling1D</span>)        │                        │               │\n",
              "├─────────────────────────────────┼────────────────────────┼───────────────┤\n",
              "│ transformer_dropout (<span style=\"color: #0087ff; text-decoration-color: #0087ff\">Dropout</span>)   │ (<span style=\"color: #00d7ff; text-decoration-color: #00d7ff\">None</span>, <span style=\"color: #00af00; text-decoration-color: #00af00\">64</span>)             │             <span style=\"color: #00af00; text-decoration-color: #00af00\">0</span> │\n",
              "├─────────────────────────────────┼────────────────────────┼───────────────┤\n",
              "│ transformer_projection (<span style=\"color: #0087ff; text-decoration-color: #0087ff\">Dense</span>)  │ (<span style=\"color: #00d7ff; text-decoration-color: #00d7ff\">None</span>, <span style=\"color: #00af00; text-decoration-color: #00af00\">64</span>)             │         <span style=\"color: #00af00; text-decoration-color: #00af00\">4,160</span> │\n",
              "└─────────────────────────────────┴────────────────────────┴───────────────┘\n",
              "</pre>\n"
            ],
            "text/plain": [
              "┏━━━━━━━━━━━━━━━━━━━━━━━━━━━━━━━━━┳━━━━━━━━━━━━━━━━━━━━━━━━┳━━━━━━━━━━━━━━━┓\n",
              "┃\u001b[1m \u001b[0m\u001b[1mLayer (type)                   \u001b[0m\u001b[1m \u001b[0m┃\u001b[1m \u001b[0m\u001b[1mOutput Shape          \u001b[0m\u001b[1m \u001b[0m┃\u001b[1m \u001b[0m\u001b[1m      Param #\u001b[0m\u001b[1m \u001b[0m┃\n",
              "┡━━━━━━━━━━━━━━━━━━━━━━━━━━━━━━━━━╇━━━━━━━━━━━━━━━━━━━━━━━━╇━━━━━━━━━━━━━━━┩\n",
              "│ transformer_input (\u001b[38;5;33mInputLayer\u001b[0m)  │ (\u001b[38;5;45mNone\u001b[0m, \u001b[38;5;34m24\u001b[0m, \u001b[38;5;34m1\u001b[0m)          │             \u001b[38;5;34m0\u001b[0m │\n",
              "├─────────────────────────────────┼────────────────────────┼───────────────┤\n",
              "│ input_projection (\u001b[38;5;33mDense\u001b[0m)        │ (\u001b[38;5;45mNone\u001b[0m, \u001b[38;5;34m24\u001b[0m, \u001b[38;5;34m64\u001b[0m)         │           \u001b[38;5;34m128\u001b[0m │\n",
              "├─────────────────────────────────┼────────────────────────┼───────────────┤\n",
              "│ sinusoidal_position_encoding    │ (\u001b[38;5;45mNone\u001b[0m, \u001b[38;5;34m24\u001b[0m, \u001b[38;5;34m64\u001b[0m)         │             \u001b[38;5;34m0\u001b[0m │\n",
              "│ (\u001b[38;5;33mSinusoidalPositionEncoding\u001b[0m)    │                        │               │\n",
              "├─────────────────────────────────┼────────────────────────┼───────────────┤\n",
              "│ pos_dropout (\u001b[38;5;33mDropout\u001b[0m)           │ (\u001b[38;5;45mNone\u001b[0m, \u001b[38;5;34m24\u001b[0m, \u001b[38;5;34m64\u001b[0m)         │             \u001b[38;5;34m0\u001b[0m │\n",
              "├─────────────────────────────────┼────────────────────────┼───────────────┤\n",
              "│ transformer_block               │ (\u001b[38;5;45mNone\u001b[0m, \u001b[38;5;34m24\u001b[0m, \u001b[38;5;34m64\u001b[0m)         │        \u001b[38;5;34m83,200\u001b[0m │\n",
              "│ (\u001b[38;5;33mTransformerBlock\u001b[0m)              │                        │               │\n",
              "├─────────────────────────────────┼────────────────────────┼───────────────┤\n",
              "│ transformer_block_1             │ (\u001b[38;5;45mNone\u001b[0m, \u001b[38;5;34m24\u001b[0m, \u001b[38;5;34m64\u001b[0m)         │        \u001b[38;5;34m83,200\u001b[0m │\n",
              "│ (\u001b[38;5;33mTransformerBlock\u001b[0m)              │                        │               │\n",
              "├─────────────────────────────────┼────────────────────────┼───────────────┤\n",
              "│ transformer_gap                 │ (\u001b[38;5;45mNone\u001b[0m, \u001b[38;5;34m64\u001b[0m)             │             \u001b[38;5;34m0\u001b[0m │\n",
              "│ (\u001b[38;5;33mGlobalAveragePooling1D\u001b[0m)        │                        │               │\n",
              "├─────────────────────────────────┼────────────────────────┼───────────────┤\n",
              "│ transformer_dropout (\u001b[38;5;33mDropout\u001b[0m)   │ (\u001b[38;5;45mNone\u001b[0m, \u001b[38;5;34m64\u001b[0m)             │             \u001b[38;5;34m0\u001b[0m │\n",
              "├─────────────────────────────────┼────────────────────────┼───────────────┤\n",
              "│ transformer_projection (\u001b[38;5;33mDense\u001b[0m)  │ (\u001b[38;5;45mNone\u001b[0m, \u001b[38;5;34m64\u001b[0m)             │         \u001b[38;5;34m4,160\u001b[0m │\n",
              "└─────────────────────────────────┴────────────────────────┴───────────────┘\n"
            ]
          },
          "metadata": {},
          "output_type": "display_data"
        },
        {
          "data": {
            "text/html": [
              "<pre style=\"white-space:pre;overflow-x:auto;line-height:normal;font-family:Menlo,'DejaVu Sans Mono',consolas,'Courier New',monospace\"><span style=\"font-weight: bold\"> Total params: </span><span style=\"color: #00af00; text-decoration-color: #00af00\">170,688</span> (666.75 KB)\n",
              "</pre>\n"
            ],
            "text/plain": [
              "\u001b[1m Total params: \u001b[0m\u001b[38;5;34m170,688\u001b[0m (666.75 KB)\n"
            ]
          },
          "metadata": {},
          "output_type": "display_data"
        },
        {
          "data": {
            "text/html": [
              "<pre style=\"white-space:pre;overflow-x:auto;line-height:normal;font-family:Menlo,'DejaVu Sans Mono',consolas,'Courier New',monospace\"><span style=\"font-weight: bold\"> Trainable params: </span><span style=\"color: #00af00; text-decoration-color: #00af00\">170,688</span> (666.75 KB)\n",
              "</pre>\n"
            ],
            "text/plain": [
              "\u001b[1m Trainable params: \u001b[0m\u001b[38;5;34m170,688\u001b[0m (666.75 KB)\n"
            ]
          },
          "metadata": {},
          "output_type": "display_data"
        },
        {
          "data": {
            "text/html": [
              "<pre style=\"white-space:pre;overflow-x:auto;line-height:normal;font-family:Menlo,'DejaVu Sans Mono',consolas,'Courier New',monospace\"><span style=\"font-weight: bold\"> Non-trainable params: </span><span style=\"color: #00af00; text-decoration-color: #00af00\">0</span> (0.00 B)\n",
              "</pre>\n"
            ],
            "text/plain": [
              "\u001b[1m Non-trainable params: \u001b[0m\u001b[38;5;34m0\u001b[0m (0.00 B)\n"
            ]
          },
          "metadata": {},
          "output_type": "display_data"
        },
        {
          "name": "stdout",
          "output_type": "stream",
          "text": [
            "None\n"
          ]
        },
        {
          "data": {
            "text/html": [
              "<pre style=\"white-space:pre;overflow-x:auto;line-height:normal;font-family:Menlo,'DejaVu Sans Mono',consolas,'Courier New',monospace\"><span style=\"font-weight: bold\">Model: \"nnclr\"</span>\n",
              "</pre>\n"
            ],
            "text/plain": [
              "\u001b[1mModel: \"nnclr\"\u001b[0m\n"
            ]
          },
          "metadata": {},
          "output_type": "display_data"
        },
        {
          "data": {
            "text/html": [
              "<pre style=\"white-space:pre;overflow-x:auto;line-height:normal;font-family:Menlo,'DejaVu Sans Mono',consolas,'Courier New',monospace\">┏━━━━━━━━━━━━━━━━━━━━━━━━━━━━━━━━━┳━━━━━━━━━━━━━━━━━━━━━━━━┳━━━━━━━━━━━━━━━┓\n",
              "┃<span style=\"font-weight: bold\"> Layer (type)                    </span>┃<span style=\"font-weight: bold\"> Output Shape           </span>┃<span style=\"font-weight: bold\">       Param # </span>┃\n",
              "┡━━━━━━━━━━━━━━━━━━━━━━━━━━━━━━━━━╇━━━━━━━━━━━━━━━━━━━━━━━━╇━━━━━━━━━━━━━━━┩\n",
              "│ contrastive_augmenter           │ (<span style=\"color: #00d7ff; text-decoration-color: #00d7ff\">None</span>, <span style=\"color: #00d7ff; text-decoration-color: #00d7ff\">None</span>, <span style=\"color: #00af00; text-decoration-color: #00af00\">1</span>)        │             <span style=\"color: #00af00; text-decoration-color: #00af00\">0</span> │\n",
              "│ (<span style=\"color: #0087ff; text-decoration-color: #0087ff\">Sequential</span>)                    │                        │               │\n",
              "├─────────────────────────────────┼────────────────────────┼───────────────┤\n",
              "│ classification_augmenter        │ (<span style=\"color: #00d7ff; text-decoration-color: #00d7ff\">None</span>, <span style=\"color: #00d7ff; text-decoration-color: #00d7ff\">None</span>, <span style=\"color: #00af00; text-decoration-color: #00af00\">1</span>)        │             <span style=\"color: #00af00; text-decoration-color: #00af00\">0</span> │\n",
              "│ (<span style=\"color: #0087ff; text-decoration-color: #0087ff\">Sequential</span>)                    │                        │               │\n",
              "├─────────────────────────────────┼────────────────────────┼───────────────┤\n",
              "│ transformer_encoder             │ (<span style=\"color: #00d7ff; text-decoration-color: #00d7ff\">None</span>, <span style=\"color: #00af00; text-decoration-color: #00af00\">64</span>)             │       <span style=\"color: #00af00; text-decoration-color: #00af00\">170,688</span> │\n",
              "│ (<span style=\"color: #0087ff; text-decoration-color: #0087ff\">Functional</span>)                    │                        │               │\n",
              "├─────────────────────────────────┼────────────────────────┼───────────────┤\n",
              "│ projection_head (<span style=\"color: #0087ff; text-decoration-color: #0087ff\">Sequential</span>)    │ (<span style=\"color: #00d7ff; text-decoration-color: #00d7ff\">None</span>, <span style=\"color: #00af00; text-decoration-color: #00af00\">64</span>)             │         <span style=\"color: #00af00; text-decoration-color: #00af00\">8,320</span> │\n",
              "├─────────────────────────────────┼────────────────────────┼───────────────┤\n",
              "│ linear_probe (<span style=\"color: #0087ff; text-decoration-color: #0087ff\">Sequential</span>)       │ (<span style=\"color: #00d7ff; text-decoration-color: #00d7ff\">None</span>, <span style=\"color: #00af00; text-decoration-color: #00af00\">7</span>)              │           <span style=\"color: #00af00; text-decoration-color: #00af00\">455</span> │\n",
              "└─────────────────────────────────┴────────────────────────┴───────────────┘\n",
              "</pre>\n"
            ],
            "text/plain": [
              "┏━━━━━━━━━━━━━━━━━━━━━━━━━━━━━━━━━┳━━━━━━━━━━━━━━━━━━━━━━━━┳━━━━━━━━━━━━━━━┓\n",
              "┃\u001b[1m \u001b[0m\u001b[1mLayer (type)                   \u001b[0m\u001b[1m \u001b[0m┃\u001b[1m \u001b[0m\u001b[1mOutput Shape          \u001b[0m\u001b[1m \u001b[0m┃\u001b[1m \u001b[0m\u001b[1m      Param #\u001b[0m\u001b[1m \u001b[0m┃\n",
              "┡━━━━━━━━━━━━━━━━━━━━━━━━━━━━━━━━━╇━━━━━━━━━━━━━━━━━━━━━━━━╇━━━━━━━━━━━━━━━┩\n",
              "│ contrastive_augmenter           │ (\u001b[38;5;45mNone\u001b[0m, \u001b[38;5;45mNone\u001b[0m, \u001b[38;5;34m1\u001b[0m)        │             \u001b[38;5;34m0\u001b[0m │\n",
              "│ (\u001b[38;5;33mSequential\u001b[0m)                    │                        │               │\n",
              "├─────────────────────────────────┼────────────────────────┼───────────────┤\n",
              "│ classification_augmenter        │ (\u001b[38;5;45mNone\u001b[0m, \u001b[38;5;45mNone\u001b[0m, \u001b[38;5;34m1\u001b[0m)        │             \u001b[38;5;34m0\u001b[0m │\n",
              "│ (\u001b[38;5;33mSequential\u001b[0m)                    │                        │               │\n",
              "├─────────────────────────────────┼────────────────────────┼───────────────┤\n",
              "│ transformer_encoder             │ (\u001b[38;5;45mNone\u001b[0m, \u001b[38;5;34m64\u001b[0m)             │       \u001b[38;5;34m170,688\u001b[0m │\n",
              "│ (\u001b[38;5;33mFunctional\u001b[0m)                    │                        │               │\n",
              "├─────────────────────────────────┼────────────────────────┼───────────────┤\n",
              "│ projection_head (\u001b[38;5;33mSequential\u001b[0m)    │ (\u001b[38;5;45mNone\u001b[0m, \u001b[38;5;34m64\u001b[0m)             │         \u001b[38;5;34m8,320\u001b[0m │\n",
              "├─────────────────────────────────┼────────────────────────┼───────────────┤\n",
              "│ linear_probe (\u001b[38;5;33mSequential\u001b[0m)       │ (\u001b[38;5;45mNone\u001b[0m, \u001b[38;5;34m7\u001b[0m)              │           \u001b[38;5;34m455\u001b[0m │\n",
              "└─────────────────────────────────┴────────────────────────┴───────────────┘\n"
            ]
          },
          "metadata": {},
          "output_type": "display_data"
        },
        {
          "data": {
            "text/html": [
              "<pre style=\"white-space:pre;overflow-x:auto;line-height:normal;font-family:Menlo,'DejaVu Sans Mono',consolas,'Courier New',monospace\"><span style=\"font-weight: bold\"> Total params: </span><span style=\"color: #00af00; text-decoration-color: #00af00\">179,463</span> (701.03 KB)\n",
              "</pre>\n"
            ],
            "text/plain": [
              "\u001b[1m Total params: \u001b[0m\u001b[38;5;34m179,463\u001b[0m (701.03 KB)\n"
            ]
          },
          "metadata": {},
          "output_type": "display_data"
        },
        {
          "data": {
            "text/html": [
              "<pre style=\"white-space:pre;overflow-x:auto;line-height:normal;font-family:Menlo,'DejaVu Sans Mono',consolas,'Courier New',monospace\"><span style=\"font-weight: bold\"> Trainable params: </span><span style=\"color: #00af00; text-decoration-color: #00af00\">179,463</span> (701.03 KB)\n",
              "</pre>\n"
            ],
            "text/plain": [
              "\u001b[1m Trainable params: \u001b[0m\u001b[38;5;34m179,463\u001b[0m (701.03 KB)\n"
            ]
          },
          "metadata": {},
          "output_type": "display_data"
        },
        {
          "data": {
            "text/html": [
              "<pre style=\"white-space:pre;overflow-x:auto;line-height:normal;font-family:Menlo,'DejaVu Sans Mono',consolas,'Courier New',monospace\"><span style=\"font-weight: bold\"> Non-trainable params: </span><span style=\"color: #00af00; text-decoration-color: #00af00\">0</span> (0.00 B)\n",
              "</pre>\n"
            ],
            "text/plain": [
              "\u001b[1m Non-trainable params: \u001b[0m\u001b[38;5;34m0\u001b[0m (0.00 B)\n"
            ]
          },
          "metadata": {},
          "output_type": "display_data"
        },
        {
          "name": "stdout",
          "output_type": "stream",
          "text": [
            "None\n",
            "Epoch 1/20\n",
            "36/36 - 20s - 542ms/step - c_acc: 0.0135 - c_loss: 3.9121 - p_acc: 0.1042 - p_loss: nan - r_acc: 0.0126 - val_p_acc: 0.1034 - val_p_loss: nan\n",
            "Epoch 2/20\n",
            "36/36 - 1s - 27ms/step - c_acc: 0.0151 - c_loss: 3.9120 - p_acc: 0.1042 - p_loss: nan - r_acc: 0.0165 - val_p_acc: 0.1034 - val_p_loss: nan\n",
            "Epoch 3/20\n",
            "36/36 - 1s - 27ms/step - c_acc: 0.0120 - c_loss: 3.9122 - p_acc: 0.1042 - p_loss: nan - r_acc: 0.0154 - val_p_acc: 0.1034 - val_p_loss: nan\n",
            "Epoch 4/20\n",
            "36/36 - 1s - 26ms/step - c_acc: 0.0168 - c_loss: 3.9120 - p_acc: 0.1042 - p_loss: nan - r_acc: 0.0184 - val_p_acc: 0.1034 - val_p_loss: nan\n",
            "Epoch 5/20\n",
            "36/36 - 1s - 26ms/step - c_acc: 0.0177 - c_loss: 3.9120 - p_acc: 0.1042 - p_loss: nan - r_acc: 0.0169 - val_p_acc: 0.1034 - val_p_loss: nan\n",
            "Epoch 6/20\n",
            "36/36 - 1s - 35ms/step - c_acc: 0.0146 - c_loss: 3.9121 - p_acc: 0.1042 - p_loss: nan - r_acc: 0.0145 - val_p_acc: 0.1034 - val_p_loss: nan\n",
            "Epoch 7/20\n",
            "36/36 - 1s - 40ms/step - c_acc: 0.0183 - c_loss: 3.9119 - p_acc: 0.1042 - p_loss: nan - r_acc: 0.0148 - val_p_acc: 0.1034 - val_p_loss: nan\n",
            "Epoch 8/20\n",
            "36/36 - 2s - 63ms/step - c_acc: 0.0129 - c_loss: 3.9120 - p_acc: 0.1042 - p_loss: nan - r_acc: 0.0180 - val_p_acc: 0.1034 - val_p_loss: nan\n",
            "Epoch 9/20\n",
            "36/36 - 1s - 31ms/step - c_acc: 0.0164 - c_loss: 3.9120 - p_acc: 0.1042 - p_loss: nan - r_acc: 0.0184 - val_p_acc: 0.1034 - val_p_loss: nan\n",
            "Epoch 10/20\n",
            "36/36 - 1s - 30ms/step - c_acc: 0.0148 - c_loss: 3.9120 - p_acc: 0.1042 - p_loss: nan - r_acc: 0.0139 - val_p_acc: 0.1034 - val_p_loss: nan\n",
            "Epoch 11/20\n",
            "36/36 - 1s - 27ms/step - c_acc: 0.0162 - c_loss: 3.9120 - p_acc: 0.1042 - p_loss: nan - r_acc: 0.0182 - val_p_acc: 0.1034 - val_p_loss: nan\n",
            "Epoch 12/20\n",
            "36/36 - 1s - 27ms/step - c_acc: 0.0109 - c_loss: 3.9120 - p_acc: 0.1042 - p_loss: nan - r_acc: 0.0174 - val_p_acc: 0.1034 - val_p_loss: nan\n",
            "Epoch 13/20\n",
            "36/36 - 1s - 27ms/step - c_acc: 0.0179 - c_loss: 3.9120 - p_acc: 0.1042 - p_loss: nan - r_acc: 0.0163 - val_p_acc: 0.1034 - val_p_loss: nan\n",
            "Epoch 14/20\n",
            "36/36 - 1s - 30ms/step - c_acc: 0.0172 - c_loss: 3.9120 - p_acc: 0.1042 - p_loss: nan - r_acc: 0.0143 - val_p_acc: 0.1034 - val_p_loss: nan\n",
            "Epoch 15/20\n",
            "36/36 - 1s - 26ms/step - c_acc: 0.0153 - c_loss: 3.9120 - p_acc: 0.1042 - p_loss: nan - r_acc: 0.0139 - val_p_acc: 0.1034 - val_p_loss: nan\n",
            "Epoch 16/20\n",
            "36/36 - 1s - 27ms/step - c_acc: 0.0162 - c_loss: 3.9120 - p_acc: 0.1042 - p_loss: nan - r_acc: 0.0137 - val_p_acc: 0.1034 - val_p_loss: nan\n",
            "Epoch 17/20\n",
            "36/36 - 1s - 41ms/step - c_acc: 0.0135 - c_loss: 3.9121 - p_acc: 0.1042 - p_loss: nan - r_acc: 0.0169 - val_p_acc: 0.1034 - val_p_loss: nan\n",
            "Epoch 18/20\n",
            "36/36 - 1s - 34ms/step - c_acc: 0.0124 - c_loss: 3.9120 - p_acc: 0.1042 - p_loss: nan - r_acc: 0.0148 - val_p_acc: 0.1034 - val_p_loss: nan\n",
            "Epoch 19/20\n",
            "36/36 - 1s - 31ms/step - c_acc: 0.0133 - c_loss: 3.9120 - p_acc: 0.1042 - p_loss: nan - r_acc: 0.0132 - val_p_acc: 0.1034 - val_p_loss: nan\n",
            "Epoch 20/20\n",
            "36/36 - 1s - 30ms/step - c_acc: 0.0144 - c_loss: 3.9120 - p_acc: 0.1042 - p_loss: nan - r_acc: 0.0178 - val_p_acc: 0.1034 - val_p_loss: nan\n",
            "Preprocess: 0.397s  Train: 44.313s  Infer: 0.129s\n"
          ]
        }
      ],
      "source": [
        "import importlib\n",
        "import nnclr_embdtransformer as nn          # your module as first imported\n",
        "importlib.reload(nn)\n",
        "\n",
        "train_nn_transformer, val_nn_transformer, test_nn_transformer, train_time, inference_time = nn.nnclr_transformer_embedding_with_timing(train_sc, val_sc, test_sc,y_train-1,y_valid-1,y_test-1,24,10)"
      ]
    },
    {
      "cell_type": "code",
      "execution_count": 9,
      "metadata": {
        "colab": {
          "base_uri": "https://localhost:8080/"
        },
        "id": "LBYrxidG-uDg",
        "outputId": "0cf3c5b3-4877-4861-ca73-08e64c85196c"
      },
      "outputs": [
        {
          "name": "stderr",
          "output_type": "stream",
          "text": [
            "[I 2025-07-07 15:40:43,414] A new study created in memory with name: no-name-c66c2547-d24f-4555-b863-f5dadc3e4f91\n",
            "[I 2025-07-07 15:40:43,449] Trial 0 finished with value: 0.10440034512510785 and parameters: {'C': 2.444823914909252e-09, 'fit_intercept': False, 'solver': 'saga', 'penalty': 'elasticnet', 'l1_ratio': 0.76002539133061}. Best is trial 0 with value: 0.10440034512510785.\n",
            "[I 2025-07-07 15:40:43,487] Trial 1 finished with value: 0.10440034512510785 and parameters: {'C': 3.5164607088451946e-08, 'fit_intercept': False, 'solver': 'saga', 'penalty': 'elasticnet', 'l1_ratio': 0.8565167385363067}. Best is trial 0 with value: 0.10440034512510785.\n",
            "[I 2025-07-07 15:40:43,572] Trial 2 finished with value: 0.10440034512510785 and parameters: {'C': 0.000539581503347045, 'fit_intercept': False, 'solver': 'saga', 'penalty': 'elasticnet', 'l1_ratio': 0.8310887627026855}. Best is trial 0 with value: 0.10440034512510785.\n",
            "[I 2025-07-07 15:40:43,604] Trial 3 finished with value: 0.10440034512510785 and parameters: {'C': 2.8683901538300107e-06, 'fit_intercept': True, 'solver': 'saga', 'penalty': 'elasticnet', 'l1_ratio': 0.8570701026300264}. Best is trial 0 with value: 0.10440034512510785.\n",
            "[I 2025-07-07 15:40:43,748] Trial 4 finished with value: 0.10440034512510785 and parameters: {'C': 0.011540792729634514, 'fit_intercept': True, 'solver': 'saga', 'penalty': 'elasticnet', 'l1_ratio': 0.971181696560843}. Best is trial 0 with value: 0.10440034512510785.\n",
            "[I 2025-07-07 15:40:58,342] Trial 5 finished with value: 0.4288179465056083 and parameters: {'C': 9.701614626931566, 'fit_intercept': False, 'solver': 'saga', 'penalty': 'elasticnet', 'l1_ratio': 0.5023150247030189}. Best is trial 5 with value: 0.4288179465056083.\n",
            "[I 2025-07-07 15:40:58,374] Trial 6 finished with value: 0.10526315789473684 and parameters: {'C': 1.1962760351385498e-08, 'fit_intercept': True, 'solver': 'saga', 'penalty': 'elasticnet', 'l1_ratio': 0.5517710858592484}. Best is trial 5 with value: 0.4288179465056083.\n",
            "[I 2025-07-07 15:40:58,473] Trial 7 finished with value: 0.10440034512510785 and parameters: {'C': 0.014649670842235792, 'fit_intercept': True, 'solver': 'saga', 'penalty': 'elasticnet', 'l1_ratio': 0.8860891288314029}. Best is trial 5 with value: 0.4288179465056083.\n",
            "[I 2025-07-07 15:41:30,041] Trial 8 finished with value: 0.5668679896462467 and parameters: {'C': 77.68334621169596, 'fit_intercept': False, 'solver': 'saga', 'penalty': 'elasticnet', 'l1_ratio': 0.040962416547250635}. Best is trial 8 with value: 0.5668679896462467.\n",
            "[I 2025-07-07 15:42:03,531] Trial 9 finished with value: 0.5685936151855048 and parameters: {'C': 85.97067871932822, 'fit_intercept': True, 'solver': 'saga', 'penalty': 'elasticnet', 'l1_ratio': 0.14499429680376108}. Best is trial 9 with value: 0.5685936151855048.\n",
            "[I 2025-07-07 15:42:46,399] Trial 10 finished with value: 0.5763589301121657 and parameters: {'C': 415.793143711296, 'fit_intercept': True, 'solver': 'saga', 'penalty': 'elasticnet', 'l1_ratio': 0.06915694373273627}. Best is trial 10 with value: 0.5763589301121657.\n",
            "[I 2025-07-07 15:43:29,052] Trial 11 finished with value: 0.5789473684210527 and parameters: {'C': 987.037191785601, 'fit_intercept': True, 'solver': 'saga', 'penalty': 'elasticnet', 'l1_ratio': 0.03666523142530387}. Best is trial 11 with value: 0.5789473684210527.\n",
            "[I 2025-07-07 15:43:30,229] Trial 12 finished with value: 0.21484037963761865 and parameters: {'C': 0.4874983249524111, 'fit_intercept': True, 'solver': 'saga', 'penalty': 'elasticnet', 'l1_ratio': 0.24272216240885452}. Best is trial 11 with value: 0.5789473684210527.\n",
            "[I 2025-07-07 15:44:12,904] Trial 13 finished with value: 0.5789473684210527 and parameters: {'C': 462.1902994317283, 'fit_intercept': True, 'solver': 'saga', 'penalty': 'elasticnet', 'l1_ratio': 0.3055764942456791}. Best is trial 11 with value: 0.5789473684210527.\n",
            "[I 2025-07-07 15:44:14,937] Trial 14 finished with value: 0.26056945642795515 and parameters: {'C': 1.1064078016851426, 'fit_intercept': True, 'solver': 'saga', 'penalty': 'elasticnet', 'l1_ratio': 0.31774098653416666}. Best is trial 11 with value: 0.5789473684210527.\n",
            "[I 2025-07-07 15:44:14,976] Trial 15 finished with value: 0.10440034512510785 and parameters: {'C': 3.73504809759903e-06, 'fit_intercept': True, 'solver': 'saga', 'penalty': 'elasticnet', 'l1_ratio': 0.3699621539752457}. Best is trial 11 with value: 0.5789473684210527.\n",
            "[I 2025-07-07 15:44:56,579] Trial 16 finished with value: 0.5789473684210527 and parameters: {'C': 591.6496711355147, 'fit_intercept': True, 'solver': 'saga', 'penalty': 'elasticnet', 'l1_ratio': 0.19231059824027522}. Best is trial 11 with value: 0.5789473684210527.\n",
            "[I 2025-07-07 15:44:59,391] Trial 17 finished with value: 0.25366695427092323 and parameters: {'C': 0.8608104201892697, 'fit_intercept': True, 'solver': 'saga', 'penalty': 'elasticnet', 'l1_ratio': 0.3715793950912232}. Best is trial 11 with value: 0.5789473684210527.\n",
            "[I 2025-07-07 15:44:59,514] Trial 18 finished with value: 0.10440034512510785 and parameters: {'C': 0.022995607337738054, 'fit_intercept': True, 'solver': 'saga', 'penalty': 'elasticnet', 'l1_ratio': 0.6492685530249307}. Best is trial 11 with value: 0.5789473684210527.\n",
            "[I 2025-07-07 15:45:09,787] Trial 19 finished with value: 0.4253666954270923 and parameters: {'C': 10.059761188341545, 'fit_intercept': True, 'solver': 'saga', 'penalty': 'elasticnet', 'l1_ratio': 0.2744977223535395}. Best is trial 11 with value: 0.5789473684210527.\n",
            "[I 2025-07-07 15:45:09,886] Trial 20 finished with value: 0.10440034512510785 and parameters: {'C': 0.00012594579277724077, 'fit_intercept': True, 'solver': 'saga', 'penalty': 'elasticnet', 'l1_ratio': 0.12207593958866231}. Best is trial 11 with value: 0.5789473684210527.\n",
            "[I 2025-07-07 15:45:51,958] Trial 21 finished with value: 0.5789473684210527 and parameters: {'C': 994.855983017992, 'fit_intercept': True, 'solver': 'saga', 'penalty': 'elasticnet', 'l1_ratio': 0.2082622494869948}. Best is trial 11 with value: 0.5789473684210527.\n",
            "[I 2025-07-07 15:46:07,125] Trial 22 finished with value: 0.45297670405522 and parameters: {'C': 22.101536217350084, 'fit_intercept': True, 'solver': 'saga', 'penalty': 'elasticnet', 'l1_ratio': 0.001878192259085698}. Best is trial 11 with value: 0.5789473684210527.\n",
            "[I 2025-07-07 15:46:49,493] Trial 23 finished with value: 0.5789473684210527 and parameters: {'C': 872.8827679619304, 'fit_intercept': True, 'solver': 'saga', 'penalty': 'elasticnet', 'l1_ratio': 0.43035555533712977}. Best is trial 11 with value: 0.5789473684210527.\n",
            "[I 2025-07-07 15:46:51,495] Trial 24 finished with value: 0.21484037963761865 and parameters: {'C': 0.23153051077840872, 'fit_intercept': True, 'solver': 'saga', 'penalty': 'elasticnet', 'l1_ratio': 0.15854885815152941}. Best is trial 11 with value: 0.5789473684210527.\n",
            "[I 2025-07-07 15:46:57,587] Trial 25 finished with value: 0.39775668679896464 and parameters: {'C': 5.292330905197024, 'fit_intercept': True, 'solver': 'saga', 'penalty': 'elasticnet', 'l1_ratio': 0.20017731438438513}. Best is trial 11 with value: 0.5789473684210527.\n",
            "[I 2025-07-07 15:46:57,631] Trial 26 finished with value: 0.10440034512510785 and parameters: {'C': 1.355470662195208e-10, 'fit_intercept': False, 'solver': 'saga', 'penalty': 'elasticnet', 'l1_ratio': 0.10047834224208566}. Best is trial 11 with value: 0.5789473684210527.\n",
            "[I 2025-07-07 15:47:35,200] Trial 27 finished with value: 0.5703192407247627 and parameters: {'C': 105.00683823572838, 'fit_intercept': True, 'solver': 'saga', 'penalty': 'elasticnet', 'l1_ratio': 0.2919339657845044}. Best is trial 11 with value: 0.5789473684210527.\n",
            "[I 2025-07-07 15:47:35,453] Trial 28 finished with value: 0.10440034512510785 and parameters: {'C': 0.09248759288961916, 'fit_intercept': True, 'solver': 'saga', 'penalty': 'elasticnet', 'l1_ratio': 0.42218054218089535}. Best is trial 11 with value: 0.5789473684210527.\n",
            "[I 2025-07-07 15:48:07,428] Trial 29 finished with value: 0.5668679896462467 and parameters: {'C': 97.54537302893551, 'fit_intercept': False, 'solver': 'saga', 'penalty': 'elasticnet', 'l1_ratio': 0.0024318860644482743}. Best is trial 11 with value: 0.5789473684210527.\n",
            "[I 2025-07-07 15:48:14,932] Trial 30 finished with value: 0.3796376186367558 and parameters: {'C': 2.9260992650482827, 'fit_intercept': True, 'solver': 'saga', 'penalty': 'elasticnet', 'l1_ratio': 0.6363757724475988}. Best is trial 11 with value: 0.5789473684210527.\n",
            "[I 2025-07-07 15:48:56,906] Trial 31 finished with value: 0.5789473684210527 and parameters: {'C': 789.4223878297573, 'fit_intercept': True, 'solver': 'saga', 'penalty': 'elasticnet', 'l1_ratio': 0.18659594258973702}. Best is trial 11 with value: 0.5789473684210527.\n",
            "[I 2025-07-07 15:49:39,539] Trial 32 finished with value: 0.5789473684210527 and parameters: {'C': 959.9078860094567, 'fit_intercept': True, 'solver': 'saga', 'penalty': 'elasticnet', 'l1_ratio': 0.22976779657503954}. Best is trial 11 with value: 0.5789473684210527.\n",
            "[I 2025-07-07 15:50:06,446] Trial 33 finished with value: 0.5573770491803278 and parameters: {'C': 40.852205407822495, 'fit_intercept': True, 'solver': 'saga', 'penalty': 'elasticnet', 'l1_ratio': 0.3357111568889729}. Best is trial 11 with value: 0.5789473684210527.\n",
            "[I 2025-07-07 15:50:47,618] Trial 34 finished with value: 0.5763589301121657 and parameters: {'C': 228.0805905196398, 'fit_intercept': False, 'solver': 'saga', 'penalty': 'elasticnet', 'l1_ratio': 0.1006066331861265}. Best is trial 11 with value: 0.5789473684210527.\n",
            "[I 2025-07-07 15:51:01,509] Trial 35 finished with value: 0.4339948231233822 and parameters: {'C': 14.114678855179045, 'fit_intercept': True, 'solver': 'saga', 'penalty': 'elasticnet', 'l1_ratio': 0.2111330810637171}. Best is trial 11 with value: 0.5789473684210527.\n",
            "[I 2025-07-07 15:51:44,358] Trial 36 finished with value: 0.5763589301121657 and parameters: {'C': 284.3956678779285, 'fit_intercept': True, 'solver': 'saga', 'penalty': 'elasticnet', 'l1_ratio': 0.0584755637005023}. Best is trial 11 with value: 0.5789473684210527.\n",
            "[I 2025-07-07 15:51:44,420] Trial 37 finished with value: 0.10440034512510785 and parameters: {'C': 0.00018966802122196016, 'fit_intercept': False, 'solver': 'saga', 'penalty': 'elasticnet', 'l1_ratio': 0.2669294358611668}. Best is trial 11 with value: 0.5789473684210527.\n",
            "[I 2025-07-07 15:51:44,459] Trial 38 finished with value: 0.10440034512510785 and parameters: {'C': 3.3149915952740754e-06, 'fit_intercept': True, 'solver': 'saga', 'penalty': 'elasticnet', 'l1_ratio': 0.474436260427142}. Best is trial 11 with value: 0.5789473684210527.\n",
            "[I 2025-07-07 15:51:47,413] Trial 39 finished with value: 0.27523727351164795 and parameters: {'C': 2.2530835753519325, 'fit_intercept': True, 'solver': 'saga', 'penalty': 'elasticnet', 'l1_ratio': 0.1604239019535516}. Best is trial 11 with value: 0.5789473684210527.\n",
            "[I 2025-07-07 15:51:47,505] Trial 40 finished with value: 0.10440034512510785 and parameters: {'C': 0.0009038735144823068, 'fit_intercept': False, 'solver': 'saga', 'penalty': 'elasticnet', 'l1_ratio': 0.5416606967478875}. Best is trial 11 with value: 0.5789473684210527.\n",
            "[I 2025-07-07 15:52:29,792] Trial 41 finished with value: 0.5789473684210527 and parameters: {'C': 560.9924177979577, 'fit_intercept': True, 'solver': 'saga', 'penalty': 'elasticnet', 'l1_ratio': 0.4348439019244885}. Best is trial 11 with value: 0.5789473684210527.\n",
            "[I 2025-07-07 15:53:11,035] Trial 42 finished with value: 0.5789473684210527 and parameters: {'C': 960.9569897535349, 'fit_intercept': True, 'solver': 'saga', 'penalty': 'elasticnet', 'l1_ratio': 0.37778230178423416}. Best is trial 11 with value: 0.5789473684210527.\n",
            "[I 2025-07-07 15:53:35,056] Trial 43 finished with value: 0.544434857635893 and parameters: {'C': 29.60945517465396, 'fit_intercept': True, 'solver': 'saga', 'penalty': 'elasticnet', 'l1_ratio': 0.32350275262193057}. Best is trial 11 with value: 0.5789473684210527.\n",
            "[I 2025-07-07 15:54:17,111] Trial 44 finished with value: 0.5763589301121657 and parameters: {'C': 183.70642521498831, 'fit_intercept': True, 'solver': 'saga', 'penalty': 'elasticnet', 'l1_ratio': 0.23845786008317538}. Best is trial 11 with value: 0.5789473684210527.\n",
            "[I 2025-07-07 15:54:17,155] Trial 45 finished with value: 0.10526315789473684 and parameters: {'C': 9.443455299062302e-08, 'fit_intercept': True, 'solver': 'saga', 'penalty': 'elasticnet', 'l1_ratio': 0.5952446378383409}. Best is trial 11 with value: 0.5789473684210527.\n",
            "[I 2025-07-07 15:54:43,904] Trial 46 finished with value: 0.5565142364106989 and parameters: {'C': 33.42641608677887, 'fit_intercept': True, 'solver': 'saga', 'penalty': 'elasticnet', 'l1_ratio': 0.43736663121969266}. Best is trial 11 with value: 0.5789473684210527.\n",
            "[I 2025-07-07 15:55:25,211] Trial 47 finished with value: 0.5763589301121657 and parameters: {'C': 235.19627380166935, 'fit_intercept': True, 'solver': 'saga', 'penalty': 'elasticnet', 'l1_ratio': 0.07418782598283677}. Best is trial 11 with value: 0.5789473684210527.\n",
            "[I 2025-07-07 15:55:44,129] Trial 48 finished with value: 0.4443485763589301 and parameters: {'C': 7.519908594696078, 'fit_intercept': True, 'solver': 'saga', 'penalty': 'elasticnet', 'l1_ratio': 0.7892939132079034}. Best is trial 11 with value: 0.5789473684210527.\n",
            "[I 2025-07-07 15:56:17,491] Trial 49 finished with value: 0.5685936151855048 and parameters: {'C': 91.81555865241873, 'fit_intercept': True, 'solver': 'saga', 'penalty': 'elasticnet', 'l1_ratio': 0.1524343443221311}. Best is trial 11 with value: 0.5789473684210527.\n",
            "[I 2025-07-07 15:56:17,595] Trial 50 finished with value: 0.10440034512510785 and parameters: {'C': 0.0017054327629663852, 'fit_intercept': True, 'solver': 'saga', 'penalty': 'elasticnet', 'l1_ratio': 0.35539496931067704}. Best is trial 11 with value: 0.5789473684210527.\n",
            "[I 2025-07-07 15:56:58,666] Trial 51 finished with value: 0.5789473684210527 and parameters: {'C': 890.5788067130593, 'fit_intercept': True, 'solver': 'saga', 'penalty': 'elasticnet', 'l1_ratio': 0.17673181600799578}. Best is trial 11 with value: 0.5789473684210527.\n",
            "[I 2025-07-07 15:57:39,553] Trial 52 finished with value: 0.5763589301121657 and parameters: {'C': 223.9893087742294, 'fit_intercept': True, 'solver': 'saga', 'penalty': 'elasticnet', 'l1_ratio': 0.2927996308937329}. Best is trial 11 with value: 0.5789473684210527.\n",
            "[I 2025-07-07 15:58:07,001] Trial 53 finished with value: 0.5556514236410699 and parameters: {'C': 49.45090088494368, 'fit_intercept': True, 'solver': 'saga', 'penalty': 'elasticnet', 'l1_ratio': 0.19436757503181878}. Best is trial 11 with value: 0.5789473684210527.\n",
            "[I 2025-07-07 15:58:48,135] Trial 54 finished with value: 0.5789473684210527 and parameters: {'C': 519.4896118823141, 'fit_intercept': True, 'solver': 'saga', 'penalty': 'elasticnet', 'l1_ratio': 0.12901114845076192}. Best is trial 11 with value: 0.5789473684210527.\n",
            "[I 2025-07-07 15:59:02,037] Trial 55 finished with value: 0.4339948231233822 and parameters: {'C': 11.837868957183261, 'fit_intercept': True, 'solver': 'saga', 'penalty': 'elasticnet', 'l1_ratio': 0.3956760774679124}. Best is trial 11 with value: 0.5789473684210527.\n",
            "[I 2025-07-07 15:59:44,170] Trial 56 finished with value: 0.5789473684210527 and parameters: {'C': 908.651373224832, 'fit_intercept': True, 'solver': 'saga', 'penalty': 'elasticnet', 'l1_ratio': 0.26438213442039293}. Best is trial 11 with value: 0.5789473684210527.\n",
            "[I 2025-07-07 15:59:44,234] Trial 57 finished with value: 0.10440034512510785 and parameters: {'C': 2.0681824309996022e-05, 'fit_intercept': False, 'solver': 'saga', 'penalty': 'elasticnet', 'l1_ratio': 0.024016417982231836}. Best is trial 11 with value: 0.5789473684210527.\n",
            "[I 2025-07-07 16:00:25,245] Trial 58 finished with value: 0.5798101811906816 and parameters: {'C': 98.23338852003522, 'fit_intercept': True, 'solver': 'saga', 'penalty': 'elasticnet', 'l1_ratio': 0.9582021266211158}. Best is trial 58 with value: 0.5798101811906816.\n",
            "[I 2025-07-07 16:00:46,933] Trial 59 finished with value: 0.1285591026747196 and parameters: {'C': 0.320924702107569, 'fit_intercept': True, 'solver': 'saga', 'penalty': 'elasticnet', 'l1_ratio': 0.9705150291221206}. Best is trial 58 with value: 0.5798101811906816.\n",
            "[I 2025-07-07 16:00:51,490] Trial 60 finished with value: 0.3261432269197584 and parameters: {'C': 1.406317689800738, 'fit_intercept': True, 'solver': 'saga', 'penalty': 'elasticnet', 'l1_ratio': 0.7361246596650743}. Best is trial 58 with value: 0.5798101811906816.\n",
            "[I 2025-07-07 16:01:33,687] Trial 61 finished with value: 0.5798101811906816 and parameters: {'C': 96.2678961519393, 'fit_intercept': True, 'solver': 'saga', 'penalty': 'elasticnet', 'l1_ratio': 0.8844743196824226}. Best is trial 58 with value: 0.5798101811906816.\n",
            "[I 2025-07-07 16:02:14,500] Trial 62 finished with value: 0.5798101811906816 and parameters: {'C': 88.70059151631563, 'fit_intercept': True, 'solver': 'saga', 'penalty': 'elasticnet', 'l1_ratio': 0.8895855021214734}. Best is trial 58 with value: 0.5798101811906816.\n",
            "[I 2025-07-07 16:02:55,884] Trial 63 finished with value: 0.5789473684210527 and parameters: {'C': 65.62313122138828, 'fit_intercept': True, 'solver': 'saga', 'penalty': 'elasticnet', 'l1_ratio': 0.9437124052883038}. Best is trial 58 with value: 0.5798101811906816.\n",
            "[I 2025-07-07 16:03:36,961] Trial 64 finished with value: 0.5789473684210527 and parameters: {'C': 131.28538533312005, 'fit_intercept': True, 'solver': 'saga', 'penalty': 'elasticnet', 'l1_ratio': 0.8504867833990315}. Best is trial 58 with value: 0.5798101811906816.\n",
            "[I 2025-07-07 16:03:58,609] Trial 65 finished with value: 0.4357204486626402 and parameters: {'C': 5.2311885751939435, 'fit_intercept': True, 'solver': 'saga', 'penalty': 'elasticnet', 'l1_ratio': 0.9072874189699942}. Best is trial 58 with value: 0.5798101811906816.\n",
            "[I 2025-07-07 16:04:40,884] Trial 66 finished with value: 0.5754961173425367 and parameters: {'C': 25.312808003461782, 'fit_intercept': True, 'solver': 'saga', 'penalty': 'elasticnet', 'l1_ratio': 0.8985024043178448}. Best is trial 58 with value: 0.5798101811906816.\n",
            "[I 2025-07-07 16:05:22,610] Trial 67 finished with value: 0.5789473684210527 and parameters: {'C': 303.23446261417985, 'fit_intercept': True, 'solver': 'saga', 'penalty': 'elasticnet', 'l1_ratio': 0.8047780142859631}. Best is trial 58 with value: 0.5798101811906816.\n",
            "[I 2025-07-07 16:05:22,743] Trial 68 finished with value: 0.10440034512510785 and parameters: {'C': 0.055159019052298294, 'fit_intercept': True, 'solver': 'saga', 'penalty': 'elasticnet', 'l1_ratio': 0.8768548161172093}. Best is trial 58 with value: 0.5798101811906816.\n",
            "[I 2025-07-07 16:06:02,753] Trial 69 finished with value: 0.5763589301121657 and parameters: {'C': 81.05516582263027, 'fit_intercept': False, 'solver': 'saga', 'penalty': 'elasticnet', 'l1_ratio': 0.7433718237920972}. Best is trial 58 with value: 0.5798101811906816.\n",
            "[I 2025-07-07 16:06:25,230] Trial 70 finished with value: 0.3114754098360656 and parameters: {'C': 0.7089000418795148, 'fit_intercept': True, 'solver': 'saga', 'penalty': 'elasticnet', 'l1_ratio': 0.9987867602395283}. Best is trial 58 with value: 0.5798101811906816.\n",
            "[I 2025-07-07 16:07:06,655] Trial 71 finished with value: 0.5789473684210527 and parameters: {'C': 322.7890315937858, 'fit_intercept': True, 'solver': 'saga', 'penalty': 'elasticnet', 'l1_ratio': 0.9314347120430996}. Best is trial 58 with value: 0.5798101811906816.\n",
            "[I 2025-07-07 16:07:47,018] Trial 72 finished with value: 0.5763589301121657 and parameters: {'C': 137.5840330424459, 'fit_intercept': True, 'solver': 'saga', 'penalty': 'elasticnet', 'l1_ratio': 0.6934371261492887}. Best is trial 58 with value: 0.5798101811906816.\n",
            "[I 2025-07-07 16:08:06,633] Trial 73 finished with value: 0.5038826574633305 and parameters: {'C': 18.033236254902107, 'fit_intercept': True, 'solver': 'saga', 'penalty': 'elasticnet', 'l1_ratio': 0.49372946536365225}. Best is trial 58 with value: 0.5798101811906816.\n",
            "[I 2025-07-07 16:08:47,332] Trial 74 finished with value: 0.5789473684210527 and parameters: {'C': 377.4359802754932, 'fit_intercept': True, 'solver': 'saga', 'penalty': 'elasticnet', 'l1_ratio': 0.8259491403156705}. Best is trial 58 with value: 0.5798101811906816.\n",
            "[I 2025-07-07 16:08:52,742] Trial 75 finished with value: 0.3796376186367558 and parameters: {'C': 3.5903922351583977, 'fit_intercept': True, 'solver': 'saga', 'penalty': 'elasticnet', 'l1_ratio': 0.30139271559779157}. Best is trial 58 with value: 0.5798101811906816.\n",
            "[I 2025-07-07 16:09:22,490] Trial 76 finished with value: 0.5556514236410699 and parameters: {'C': 29.90940378092564, 'fit_intercept': True, 'solver': 'saga', 'penalty': 'elasticnet', 'l1_ratio': 0.5337597108367772}. Best is trial 58 with value: 0.5798101811906816.\n",
            "[I 2025-07-07 16:09:51,605] Trial 77 finished with value: 0.5582398619499569 and parameters: {'C': 60.28509414993938, 'fit_intercept': True, 'solver': 'saga', 'penalty': 'elasticnet', 'l1_ratio': 0.10558584309778564}. Best is trial 58 with value: 0.5798101811906816.\n",
            "[I 2025-07-07 16:09:51,669] Trial 78 finished with value: 0.10526315789473684 and parameters: {'C': 1.323018551773263e-07, 'fit_intercept': True, 'solver': 'saga', 'penalty': 'elasticnet', 'l1_ratio': 0.22884085335151705}. Best is trial 58 with value: 0.5798101811906816.\n",
            "[I 2025-07-07 16:10:31,786] Trial 79 finished with value: 0.5789473684210527 and parameters: {'C': 419.5190913363011, 'fit_intercept': False, 'solver': 'saga', 'penalty': 'elasticnet', 'l1_ratio': 0.4666245412567963}. Best is trial 58 with value: 0.5798101811906816.\n",
            "[I 2025-07-07 16:11:12,134] Trial 80 finished with value: 0.5798101811906816 and parameters: {'C': 118.71931905213928, 'fit_intercept': True, 'solver': 'saga', 'penalty': 'elasticnet', 'l1_ratio': 0.9297299134768682}. Best is trial 58 with value: 0.5798101811906816.\n",
            "[I 2025-07-07 16:11:53,564] Trial 81 finished with value: 0.5789473684210527 and parameters: {'C': 181.85273590074368, 'fit_intercept': True, 'solver': 'saga', 'penalty': 'elasticnet', 'l1_ratio': 0.9490551062870058}. Best is trial 58 with value: 0.5798101811906816.\n",
            "[I 2025-07-07 16:12:34,119] Trial 82 finished with value: 0.5789473684210527 and parameters: {'C': 478.35186765151497, 'fit_intercept': True, 'solver': 'saga', 'penalty': 'elasticnet', 'l1_ratio': 0.9983285104364943}. Best is trial 58 with value: 0.5798101811906816.\n",
            "[I 2025-07-07 16:13:02,771] Trial 83 finished with value: 0.5522001725625539 and parameters: {'C': 12.62377100480907, 'fit_intercept': True, 'solver': 'saga', 'penalty': 'elasticnet', 'l1_ratio': 0.8717110317742731}. Best is trial 58 with value: 0.5798101811906816.\n",
            "[I 2025-07-07 16:13:42,971] Trial 84 finished with value: 0.5798101811906816 and parameters: {'C': 91.76237134649104, 'fit_intercept': True, 'solver': 'saga', 'penalty': 'elasticnet', 'l1_ratio': 0.9334754837586622}. Best is trial 58 with value: 0.5798101811906816.\n",
            "[I 2025-07-07 16:14:23,824] Trial 85 finished with value: 0.5789473684210527 and parameters: {'C': 129.1521036260612, 'fit_intercept': True, 'solver': 'saga', 'penalty': 'elasticnet', 'l1_ratio': 0.9204472376837659}. Best is trial 58 with value: 0.5798101811906816.\n",
            "[I 2025-07-07 16:15:04,167] Trial 86 finished with value: 0.5789473684210527 and parameters: {'C': 64.2919389631154, 'fit_intercept': True, 'solver': 'saga', 'penalty': 'elasticnet', 'l1_ratio': 0.9699176286037365}. Best is trial 58 with value: 0.5798101811906816.\n",
            "[I 2025-07-07 16:15:44,936] Trial 87 finished with value: 0.5772217428817946 and parameters: {'C': 34.96045957019949, 'fit_intercept': True, 'solver': 'saga', 'penalty': 'elasticnet', 'l1_ratio': 0.886370136425048}. Best is trial 58 with value: 0.5798101811906816.\n",
            "[I 2025-07-07 16:15:44,979] Trial 88 finished with value: 0.10526315789473684 and parameters: {'C': 4.414023093870944e-10, 'fit_intercept': True, 'solver': 'saga', 'penalty': 'elasticnet', 'l1_ratio': 0.7863951149487902}. Best is trial 58 with value: 0.5798101811906816.\n",
            "[I 2025-07-07 16:15:53,870] Trial 89 finished with value: 0.3442622950819672 and parameters: {'C': 1.8710115797521467, 'fit_intercept': True, 'solver': 'saga', 'penalty': 'elasticnet', 'l1_ratio': 0.8284900139706896}. Best is trial 58 with value: 0.5798101811906816.\n",
            "[I 2025-07-07 16:16:16,687] Trial 90 finished with value: 0.48490077653149266 and parameters: {'C': 7.788614527312424, 'fit_intercept': True, 'solver': 'saga', 'penalty': 'elasticnet', 'l1_ratio': 0.8570773055005557}. Best is trial 58 with value: 0.5798101811906816.\n",
            "[I 2025-07-07 16:16:57,318] Trial 91 finished with value: 0.5789473684210527 and parameters: {'C': 610.6653731450772, 'fit_intercept': True, 'solver': 'saga', 'penalty': 'elasticnet', 'l1_ratio': 0.9118618756250435}. Best is trial 58 with value: 0.5798101811906816.\n",
            "[I 2025-07-07 16:17:38,610] Trial 92 finished with value: 0.5789473684210527 and parameters: {'C': 209.1626062502272, 'fit_intercept': True, 'solver': 'saga', 'penalty': 'elasticnet', 'l1_ratio': 0.9515936228085847}. Best is trial 58 with value: 0.5798101811906816.\n",
            "[I 2025-07-07 16:18:18,984] Trial 93 finished with value: 0.5763589301121657 and parameters: {'C': 113.23738536581669, 'fit_intercept': True, 'solver': 'saga', 'penalty': 'elasticnet', 'l1_ratio': 0.5818429366410639}. Best is trial 58 with value: 0.5798101811906816.\n",
            "[I 2025-07-07 16:18:19,099] Trial 94 finished with value: 0.10440034512510785 and parameters: {'C': 0.00520257484802767, 'fit_intercept': True, 'solver': 'saga', 'penalty': 'elasticnet', 'l1_ratio': 0.3520251197043347}. Best is trial 58 with value: 0.5798101811906816.\n",
            "[I 2025-07-07 16:19:00,616] Trial 95 finished with value: 0.5789473684210527 and parameters: {'C': 965.4463958538598, 'fit_intercept': True, 'solver': 'saga', 'penalty': 'elasticnet', 'l1_ratio': 0.983846952217867}. Best is trial 58 with value: 0.5798101811906816.\n",
            "[I 2025-07-07 16:19:41,196] Trial 96 finished with value: 0.5789473684210527 and parameters: {'C': 350.3479260869173, 'fit_intercept': True, 'solver': 'saga', 'penalty': 'elasticnet', 'l1_ratio': 0.4148989020947038}. Best is trial 58 with value: 0.5798101811906816.\n",
            "[I 2025-07-07 16:20:07,516] Trial 97 finished with value: 0.5556514236410699 and parameters: {'C': 50.9742563549659, 'fit_intercept': False, 'solver': 'saga', 'penalty': 'elasticnet', 'l1_ratio': 0.03968766442128438}. Best is trial 58 with value: 0.5798101811906816.\n",
            "[I 2025-07-07 16:20:48,779] Trial 98 finished with value: 0.5789473684210527 and parameters: {'C': 556.9341369386343, 'fit_intercept': True, 'solver': 'saga', 'penalty': 'elasticnet', 'l1_ratio': 0.20860667599131083}. Best is trial 58 with value: 0.5798101811906816.\n",
            "[I 2025-07-07 16:21:29,277] Trial 99 finished with value: 0.5763589301121657 and parameters: {'C': 176.67346815269914, 'fit_intercept': True, 'solver': 'saga', 'penalty': 'elasticnet', 'l1_ratio': 0.07633429790725099}. Best is trial 58 with value: 0.5798101811906816.\n"
          ]
        },
        {
          "name": "stdout",
          "output_type": "stream",
          "text": [
            "0.8035569190979004  seconds\n",
            "Classification report saved as melbourne-trans_classification_report_2025-07-07_16-21-30.txt\n",
            "{'C': 98.23338852003522, 'fit_intercept': True, 'solver': 'saga', 'penalty': 'elasticnet', 'l1_ratio': 0.9582021266211158} 0.27413793103448275\n"
          ]
        },
        {
          "name": "stderr",
          "output_type": "stream",
          "text": [
            "/usr/local/lib/python3.11/dist-packages/sklearn/linear_model/_sag.py:350: ConvergenceWarning: The max_iter was reached which means the coef_ did not converge\n",
            "  warnings.warn(\n",
            "/usr/local/lib/python3.11/dist-packages/sklearn/metrics/_classification.py:1471: UndefinedMetricWarning: Precision and F-score are ill-defined and being set to 0.0 in labels with no predicted samples. Use `zero_division` parameter to control this behavior.\n",
            "  _warn_prf(average, modifier, msg_start, len(result))\n",
            "/usr/local/lib/python3.11/dist-packages/sklearn/metrics/_classification.py:1471: UndefinedMetricWarning: Precision and F-score are ill-defined and being set to 0.0 in labels with no predicted samples. Use `zero_division` parameter to control this behavior.\n",
            "  _warn_prf(average, modifier, msg_start, len(result))\n",
            "/usr/local/lib/python3.11/dist-packages/sklearn/metrics/_classification.py:1471: UndefinedMetricWarning: Precision and F-score are ill-defined and being set to 0.0 in labels with no predicted samples. Use `zero_division` parameter to control this behavior.\n",
            "  _warn_prf(average, modifier, msg_start, len(result))\n"
          ]
        }
      ],
      "source": [
        "namem=\"melbourne-transformer\"\n",
        "\n",
        "best_params, best_score = clasfy.optimize_LOGRG(train_nn_transformer, val_nn_transformer, test_nn_transformer,ny_train, ny_val, ny_test,namem)\n",
        "print(best_params, best_score)\n"
      ]
    },
    {
      "cell_type": "code",
      "execution_count": 10,
      "metadata": {
        "colab": {
          "base_uri": "https://localhost:8080/"
        },
        "id": "ClujhuYO-18M",
        "outputId": "07435464-92fa-4edf-86f9-6816e70c6aa0"
      },
      "outputs": [
        {
          "name": "stderr",
          "output_type": "stream",
          "text": [
            "[I 2025-07-07 16:21:30,117] A new study created in memory with name: no-name-ceeeb815-5288-4df7-a2f4-3bb7b994a72d\n",
            "[I 2025-07-07 16:21:30,191] Trial 0 finished with value: 0.7627264883520276 and parameters: {'max_depth': 29, 'criterion': 'gini'}. Best is trial 0 with value: 0.7627264883520276.\n",
            "[I 2025-07-07 16:21:30,253] Trial 1 finished with value: 0.7773943054357204 and parameters: {'max_depth': 18, 'criterion': 'entropy'}. Best is trial 1 with value: 0.7773943054357204.\n",
            "[I 2025-07-07 16:21:30,314] Trial 2 finished with value: 0.7730802415875755 and parameters: {'max_depth': 14, 'criterion': 'log_loss'}. Best is trial 1 with value: 0.7773943054357204.\n",
            "[I 2025-07-07 16:21:30,361] Trial 3 finished with value: 0.7359792924935289 and parameters: {'max_depth': 5, 'criterion': 'entropy'}. Best is trial 1 with value: 0.7773943054357204.\n",
            "[I 2025-07-07 16:21:30,426] Trial 4 finished with value: 0.7834339948231234 and parameters: {'max_depth': 14, 'criterion': 'entropy'}. Best is trial 4 with value: 0.7834339948231234.\n",
            "[I 2025-07-07 16:21:30,486] Trial 5 finished with value: 0.7618636755823986 and parameters: {'max_depth': 9, 'criterion': 'log_loss'}. Best is trial 4 with value: 0.7834339948231234.\n",
            "[I 2025-07-07 16:21:30,548] Trial 6 finished with value: 0.7679033649698016 and parameters: {'max_depth': 30, 'criterion': 'entropy'}. Best is trial 4 with value: 0.7834339948231234.\n",
            "[I 2025-07-07 16:21:30,610] Trial 7 finished with value: 0.7670405522001725 and parameters: {'max_depth': 25, 'criterion': 'entropy'}. Best is trial 4 with value: 0.7834339948231234.\n",
            "[I 2025-07-07 16:21:30,674] Trial 8 finished with value: 0.7748058671268335 and parameters: {'max_depth': 15, 'criterion': 'entropy'}. Best is trial 4 with value: 0.7834339948231234.\n",
            "[I 2025-07-07 16:21:30,713] Trial 9 finished with value: 0.7661777394305436 and parameters: {'max_depth': 22, 'criterion': 'gini'}. Best is trial 4 with value: 0.7834339948231234.\n",
            "[I 2025-07-07 16:21:30,738] Trial 10 finished with value: 0.3830888697152718 and parameters: {'max_depth': 2, 'criterion': 'gini'}. Best is trial 4 with value: 0.7834339948231234.\n",
            "[I 2025-07-07 16:21:30,807] Trial 11 finished with value: 0.7722174288179465 and parameters: {'max_depth': 20, 'criterion': 'entropy'}. Best is trial 4 with value: 0.7834339948231234.\n",
            "[I 2025-07-07 16:21:30,879] Trial 12 finished with value: 0.7730802415875755 and parameters: {'max_depth': 11, 'criterion': 'entropy'}. Best is trial 4 with value: 0.7834339948231234.\n",
            "[I 2025-07-07 16:21:30,947] Trial 13 finished with value: 0.7739430543572045 and parameters: {'max_depth': 18, 'criterion': 'entropy'}. Best is trial 4 with value: 0.7834339948231234.\n",
            "[I 2025-07-07 16:21:31,014] Trial 14 finished with value: 0.7696289905090595 and parameters: {'max_depth': 10, 'criterion': 'entropy'}. Best is trial 4 with value: 0.7834339948231234.\n",
            "[I 2025-07-07 16:21:31,088] Trial 15 finished with value: 0.7739430543572045 and parameters: {'max_depth': 24, 'criterion': 'log_loss'}. Best is trial 4 with value: 0.7834339948231234.\n",
            "[I 2025-07-07 16:21:31,160] Trial 16 finished with value: 0.7773943054357204 and parameters: {'max_depth': 17, 'criterion': 'entropy'}. Best is trial 4 with value: 0.7834339948231234.\n",
            "[I 2025-07-07 16:21:31,236] Trial 17 finished with value: 0.7782571182053495 and parameters: {'max_depth': 12, 'criterion': 'entropy'}. Best is trial 4 with value: 0.7834339948231234.\n",
            "[I 2025-07-07 16:21:31,282] Trial 18 finished with value: 0.7523727351164797 and parameters: {'max_depth': 8, 'criterion': 'gini'}. Best is trial 4 with value: 0.7834339948231234.\n",
            "[I 2025-07-07 16:21:31,352] Trial 19 finished with value: 0.7687661777394306 and parameters: {'max_depth': 13, 'criterion': 'log_loss'}. Best is trial 4 with value: 0.7834339948231234.\n",
            "[I 2025-07-07 16:21:31,414] Trial 20 finished with value: 0.7679033649698016 and parameters: {'max_depth': 7, 'criterion': 'entropy'}. Best is trial 4 with value: 0.7834339948231234.\n",
            "[I 2025-07-07 16:21:31,489] Trial 21 finished with value: 0.7765314926660914 and parameters: {'max_depth': 19, 'criterion': 'entropy'}. Best is trial 4 with value: 0.7834339948231234.\n",
            "[I 2025-07-07 16:21:31,558] Trial 22 finished with value: 0.7687661777394306 and parameters: {'max_depth': 15, 'criterion': 'entropy'}. Best is trial 4 with value: 0.7834339948231234.\n",
            "[I 2025-07-07 16:21:31,628] Trial 23 finished with value: 0.7748058671268335 and parameters: {'max_depth': 12, 'criterion': 'entropy'}. Best is trial 4 with value: 0.7834339948231234.\n",
            "[I 2025-07-07 16:21:31,703] Trial 24 finished with value: 0.7704918032786885 and parameters: {'max_depth': 16, 'criterion': 'entropy'}. Best is trial 4 with value: 0.7834339948231234.\n",
            "[I 2025-07-07 16:21:31,765] Trial 25 finished with value: 0.7842968075927523 and parameters: {'max_depth': 21, 'criterion': 'entropy'}. Best is trial 25 with value: 0.7842968075927523.\n",
            "[I 2025-07-07 16:21:31,812] Trial 26 finished with value: 0.7687661777394306 and parameters: {'max_depth': 22, 'criterion': 'entropy'}. Best is trial 25 with value: 0.7842968075927523.\n",
            "[I 2025-07-07 16:21:31,845] Trial 27 finished with value: 0.7696289905090595 and parameters: {'max_depth': 26, 'criterion': 'gini'}. Best is trial 25 with value: 0.7842968075927523.\n",
            "[I 2025-07-07 16:21:31,894] Trial 28 finished with value: 0.7799827437446074 and parameters: {'max_depth': 32, 'criterion': 'log_loss'}. Best is trial 25 with value: 0.7842968075927523.\n",
            "[I 2025-07-07 16:21:31,941] Trial 29 finished with value: 0.7722174288179465 and parameters: {'max_depth': 28, 'criterion': 'log_loss'}. Best is trial 25 with value: 0.7842968075927523.\n",
            "[I 2025-07-07 16:21:31,988] Trial 30 finished with value: 0.7748058671268335 and parameters: {'max_depth': 32, 'criterion': 'log_loss'}. Best is trial 25 with value: 0.7842968075927523.\n",
            "[I 2025-07-07 16:21:32,036] Trial 31 finished with value: 0.7713546160483176 and parameters: {'max_depth': 21, 'criterion': 'log_loss'}. Best is trial 25 with value: 0.7842968075927523.\n",
            "[I 2025-07-07 16:21:32,085] Trial 32 finished with value: 0.7687661777394306 and parameters: {'max_depth': 29, 'criterion': 'log_loss'}. Best is trial 25 with value: 0.7842968075927523.\n",
            "[I 2025-07-07 16:21:32,135] Trial 33 finished with value: 0.7756686798964625 and parameters: {'max_depth': 32, 'criterion': 'log_loss'}. Best is trial 25 with value: 0.7842968075927523.\n",
            "[I 2025-07-07 16:21:32,183] Trial 34 finished with value: 0.7704918032786885 and parameters: {'max_depth': 13, 'criterion': 'entropy'}. Best is trial 25 with value: 0.7842968075927523.\n",
            "[I 2025-07-07 16:21:32,216] Trial 35 finished with value: 0.635893011216566 and parameters: {'max_depth': 4, 'criterion': 'entropy'}. Best is trial 25 with value: 0.7842968075927523.\n",
            "[I 2025-07-07 16:21:32,248] Trial 36 finished with value: 0.7601380500431406 and parameters: {'max_depth': 27, 'criterion': 'gini'}. Best is trial 25 with value: 0.7842968075927523.\n",
            "[I 2025-07-07 16:21:32,305] Trial 37 finished with value: 0.7808455565142364 and parameters: {'max_depth': 24, 'criterion': 'log_loss'}. Best is trial 25 with value: 0.7842968075927523.\n",
            "[I 2025-07-07 16:21:32,353] Trial 38 finished with value: 0.7868852459016393 and parameters: {'max_depth': 23, 'criterion': 'log_loss'}. Best is trial 38 with value: 0.7868852459016393.\n",
            "[I 2025-07-07 16:21:32,401] Trial 39 finished with value: 0.7713546160483176 and parameters: {'max_depth': 24, 'criterion': 'log_loss'}. Best is trial 38 with value: 0.7868852459016393.\n",
            "[I 2025-07-07 16:21:32,448] Trial 40 finished with value: 0.7756686798964625 and parameters: {'max_depth': 23, 'criterion': 'log_loss'}. Best is trial 38 with value: 0.7868852459016393.\n",
            "[I 2025-07-07 16:21:32,496] Trial 41 finished with value: 0.7704918032786885 and parameters: {'max_depth': 30, 'criterion': 'log_loss'}. Best is trial 38 with value: 0.7868852459016393.\n",
            "[I 2025-07-07 16:21:32,543] Trial 42 finished with value: 0.7791199309749784 and parameters: {'max_depth': 19, 'criterion': 'log_loss'}. Best is trial 38 with value: 0.7868852459016393.\n",
            "[I 2025-07-07 16:21:32,591] Trial 43 finished with value: 0.7627264883520276 and parameters: {'max_depth': 26, 'criterion': 'log_loss'}. Best is trial 38 with value: 0.7868852459016393.\n",
            "[I 2025-07-07 16:21:32,641] Trial 44 finished with value: 0.7808455565142364 and parameters: {'max_depth': 21, 'criterion': 'log_loss'}. Best is trial 38 with value: 0.7868852459016393.\n",
            "[I 2025-07-07 16:21:32,688] Trial 45 finished with value: 0.7730802415875755 and parameters: {'max_depth': 21, 'criterion': 'log_loss'}. Best is trial 38 with value: 0.7868852459016393.\n",
            "[I 2025-07-07 16:21:32,735] Trial 46 finished with value: 0.7842968075927523 and parameters: {'max_depth': 23, 'criterion': 'log_loss'}. Best is trial 38 with value: 0.7868852459016393.\n",
            "[I 2025-07-07 16:21:32,783] Trial 47 finished with value: 0.7817083692838654 and parameters: {'max_depth': 24, 'criterion': 'log_loss'}. Best is trial 38 with value: 0.7868852459016393.\n",
            "[I 2025-07-07 16:21:32,815] Trial 48 finished with value: 0.7549611734253667 and parameters: {'max_depth': 17, 'criterion': 'gini'}. Best is trial 38 with value: 0.7868852459016393.\n",
            "[I 2025-07-07 16:21:32,863] Trial 49 finished with value: 0.7687661777394306 and parameters: {'max_depth': 23, 'criterion': 'log_loss'}. Best is trial 38 with value: 0.7868852459016393.\n",
            "[I 2025-07-07 16:21:32,911] Trial 50 finished with value: 0.7679033649698016 and parameters: {'max_depth': 25, 'criterion': 'log_loss'}. Best is trial 38 with value: 0.7868852459016393.\n",
            "[I 2025-07-07 16:21:32,959] Trial 51 finished with value: 0.7713546160483176 and parameters: {'max_depth': 24, 'criterion': 'log_loss'}. Best is trial 38 with value: 0.7868852459016393.\n",
            "[I 2025-07-07 16:21:33,007] Trial 52 finished with value: 0.7730802415875755 and parameters: {'max_depth': 22, 'criterion': 'log_loss'}. Best is trial 38 with value: 0.7868852459016393.\n",
            "[I 2025-07-07 16:21:33,055] Trial 53 finished with value: 0.7704918032786885 and parameters: {'max_depth': 19, 'criterion': 'log_loss'}. Best is trial 38 with value: 0.7868852459016393.\n",
            "[I 2025-07-07 16:21:33,103] Trial 54 finished with value: 0.7773943054357204 and parameters: {'max_depth': 25, 'criterion': 'log_loss'}. Best is trial 38 with value: 0.7868852459016393.\n",
            "[I 2025-07-07 16:21:33,150] Trial 55 finished with value: 0.7773943054357204 and parameters: {'max_depth': 20, 'criterion': 'entropy'}. Best is trial 38 with value: 0.7868852459016393.\n",
            "[I 2025-07-07 16:21:33,199] Trial 56 finished with value: 0.7773943054357204 and parameters: {'max_depth': 27, 'criterion': 'log_loss'}. Best is trial 38 with value: 0.7868852459016393.\n",
            "[I 2025-07-07 16:21:33,249] Trial 57 finished with value: 0.7825711820534944 and parameters: {'max_depth': 23, 'criterion': 'entropy'}. Best is trial 38 with value: 0.7868852459016393.\n",
            "[I 2025-07-07 16:21:33,304] Trial 58 finished with value: 0.7748058671268335 and parameters: {'max_depth': 18, 'criterion': 'entropy'}. Best is trial 38 with value: 0.7868852459016393.\n",
            "[I 2025-07-07 16:21:33,356] Trial 59 finished with value: 0.7834339948231234 and parameters: {'max_depth': 23, 'criterion': 'entropy'}. Best is trial 38 with value: 0.7868852459016393.\n",
            "[I 2025-07-07 16:21:33,405] Trial 60 finished with value: 0.7653149266609146 and parameters: {'max_depth': 15, 'criterion': 'entropy'}. Best is trial 38 with value: 0.7868852459016393.\n",
            "[I 2025-07-07 16:21:33,452] Trial 61 finished with value: 0.7748058671268335 and parameters: {'max_depth': 23, 'criterion': 'entropy'}. Best is trial 38 with value: 0.7868852459016393.\n",
            "[I 2025-07-07 16:21:33,501] Trial 62 finished with value: 0.7834339948231234 and parameters: {'max_depth': 20, 'criterion': 'entropy'}. Best is trial 38 with value: 0.7868852459016393.\n",
            "[I 2025-07-07 16:21:33,549] Trial 63 finished with value: 0.7679033649698016 and parameters: {'max_depth': 20, 'criterion': 'entropy'}. Best is trial 38 with value: 0.7868852459016393.\n",
            "[I 2025-07-07 16:21:33,598] Trial 64 finished with value: 0.7791199309749784 and parameters: {'max_depth': 22, 'criterion': 'entropy'}. Best is trial 38 with value: 0.7868852459016393.\n",
            "[I 2025-07-07 16:21:33,645] Trial 65 finished with value: 0.7808455565142364 and parameters: {'max_depth': 16, 'criterion': 'entropy'}. Best is trial 38 with value: 0.7868852459016393.\n",
            "[I 2025-07-07 16:21:33,694] Trial 66 finished with value: 0.7739430543572045 and parameters: {'max_depth': 21, 'criterion': 'entropy'}. Best is trial 38 with value: 0.7868852459016393.\n",
            "[I 2025-07-07 16:21:33,742] Trial 67 finished with value: 0.7842968075927523 and parameters: {'max_depth': 20, 'criterion': 'entropy'}. Best is trial 38 with value: 0.7868852459016393.\n",
            "[I 2025-07-07 16:21:33,790] Trial 68 finished with value: 0.7756686798964625 and parameters: {'max_depth': 18, 'criterion': 'entropy'}. Best is trial 38 with value: 0.7868852459016393.\n",
            "[I 2025-07-07 16:21:33,838] Trial 69 finished with value: 0.7791199309749784 and parameters: {'max_depth': 19, 'criterion': 'entropy'}. Best is trial 38 with value: 0.7868852459016393.\n",
            "[I 2025-07-07 16:21:33,887] Trial 70 finished with value: 0.7773943054357204 and parameters: {'max_depth': 14, 'criterion': 'entropy'}. Best is trial 38 with value: 0.7868852459016393.\n",
            "[I 2025-07-07 16:21:33,935] Trial 71 finished with value: 0.7860224331320104 and parameters: {'max_depth': 20, 'criterion': 'entropy'}. Best is trial 38 with value: 0.7868852459016393.\n",
            "[I 2025-07-07 16:21:33,983] Trial 72 finished with value: 0.7799827437446074 and parameters: {'max_depth': 17, 'criterion': 'entropy'}. Best is trial 38 with value: 0.7868852459016393.\n",
            "[I 2025-07-07 16:21:34,032] Trial 73 finished with value: 0.7713546160483176 and parameters: {'max_depth': 20, 'criterion': 'entropy'}. Best is trial 38 with value: 0.7868852459016393.\n",
            "[I 2025-07-07 16:21:34,084] Trial 74 finished with value: 0.7713546160483176 and parameters: {'max_depth': 20, 'criterion': 'entropy'}. Best is trial 38 with value: 0.7868852459016393.\n",
            "[I 2025-07-07 16:21:34,132] Trial 75 finished with value: 0.7765314926660914 and parameters: {'max_depth': 22, 'criterion': 'entropy'}. Best is trial 38 with value: 0.7868852459016393.\n",
            "[I 2025-07-07 16:21:34,164] Trial 76 finished with value: 0.7713546160483176 and parameters: {'max_depth': 16, 'criterion': 'gini'}. Best is trial 38 with value: 0.7868852459016393.\n",
            "[I 2025-07-07 16:21:34,216] Trial 77 finished with value: 0.7791199309749784 and parameters: {'max_depth': 11, 'criterion': 'entropy'}. Best is trial 38 with value: 0.7868852459016393.\n",
            "[I 2025-07-07 16:21:34,263] Trial 78 finished with value: 0.7748058671268335 and parameters: {'max_depth': 18, 'criterion': 'entropy'}. Best is trial 38 with value: 0.7868852459016393.\n",
            "[I 2025-07-07 16:21:34,311] Trial 79 finished with value: 0.7722174288179465 and parameters: {'max_depth': 26, 'criterion': 'entropy'}. Best is trial 38 with value: 0.7868852459016393.\n",
            "[I 2025-07-07 16:21:34,371] Trial 80 finished with value: 0.7765314926660914 and parameters: {'max_depth': 21, 'criterion': 'entropy'}. Best is trial 38 with value: 0.7868852459016393.\n",
            "[I 2025-07-07 16:21:34,420] Trial 81 finished with value: 0.7773943054357204 and parameters: {'max_depth': 23, 'criterion': 'entropy'}. Best is trial 38 with value: 0.7868852459016393.\n",
            "[I 2025-07-07 16:21:34,468] Trial 82 finished with value: 0.7791199309749784 and parameters: {'max_depth': 23, 'criterion': 'entropy'}. Best is trial 38 with value: 0.7868852459016393.\n",
            "[I 2025-07-07 16:21:34,518] Trial 83 finished with value: 0.7679033649698016 and parameters: {'max_depth': 25, 'criterion': 'entropy'}. Best is trial 38 with value: 0.7868852459016393.\n",
            "[I 2025-07-07 16:21:34,566] Trial 84 finished with value: 0.7704918032786885 and parameters: {'max_depth': 21, 'criterion': 'entropy'}. Best is trial 38 with value: 0.7868852459016393.\n",
            "[I 2025-07-07 16:21:34,600] Trial 85 finished with value: 0.7748058671268335 and parameters: {'max_depth': 19, 'criterion': 'gini'}. Best is trial 38 with value: 0.7868852459016393.\n",
            "[I 2025-07-07 16:21:34,648] Trial 86 finished with value: 0.7687661777394306 and parameters: {'max_depth': 22, 'criterion': 'entropy'}. Best is trial 38 with value: 0.7868852459016393.\n",
            "[I 2025-07-07 16:21:34,698] Trial 87 finished with value: 0.7739430543572045 and parameters: {'max_depth': 22, 'criterion': 'entropy'}. Best is trial 38 with value: 0.7868852459016393.\n",
            "[I 2025-07-07 16:21:34,747] Trial 88 finished with value: 0.7722174288179465 and parameters: {'max_depth': 20, 'criterion': 'entropy'}. Best is trial 38 with value: 0.7868852459016393.\n",
            "[I 2025-07-07 16:21:34,796] Trial 89 finished with value: 0.7782571182053495 and parameters: {'max_depth': 23, 'criterion': 'entropy'}. Best is trial 38 with value: 0.7868852459016393.\n",
            "[I 2025-07-07 16:21:34,844] Trial 90 finished with value: 0.7704918032786885 and parameters: {'max_depth': 24, 'criterion': 'entropy'}. Best is trial 38 with value: 0.7868852459016393.\n",
            "[I 2025-07-07 16:21:34,894] Trial 91 finished with value: 0.7687661777394306 and parameters: {'max_depth': 26, 'criterion': 'log_loss'}. Best is trial 38 with value: 0.7868852459016393.\n",
            "[I 2025-07-07 16:21:34,943] Trial 92 finished with value: 0.7877480586712683 and parameters: {'max_depth': 24, 'criterion': 'log_loss'}. Best is trial 92 with value: 0.7877480586712683.\n",
            "[I 2025-07-07 16:21:34,992] Trial 93 finished with value: 0.7713546160483176 and parameters: {'max_depth': 21, 'criterion': 'entropy'}. Best is trial 92 with value: 0.7877480586712683.\n",
            "[I 2025-07-07 16:21:35,025] Trial 94 finished with value: 0.7756686798964625 and parameters: {'max_depth': 27, 'criterion': 'gini'}. Best is trial 92 with value: 0.7877480586712683.\n",
            "[I 2025-07-07 16:21:35,074] Trial 95 finished with value: 0.7773943054357204 and parameters: {'max_depth': 25, 'criterion': 'log_loss'}. Best is trial 92 with value: 0.7877480586712683.\n",
            "[I 2025-07-07 16:21:35,122] Trial 96 finished with value: 0.7722174288179465 and parameters: {'max_depth': 24, 'criterion': 'entropy'}. Best is trial 92 with value: 0.7877480586712683.\n",
            "[I 2025-07-07 16:21:35,173] Trial 97 finished with value: 0.7730802415875755 and parameters: {'max_depth': 22, 'criterion': 'log_loss'}. Best is trial 92 with value: 0.7877480586712683.\n",
            "[I 2025-07-07 16:21:35,222] Trial 98 finished with value: 0.7730802415875755 and parameters: {'max_depth': 23, 'criterion': 'entropy'}. Best is trial 92 with value: 0.7877480586712683.\n",
            "[I 2025-07-07 16:21:35,270] Trial 99 finished with value: 0.7791199309749784 and parameters: {'max_depth': 20, 'criterion': 'log_loss'}. Best is trial 92 with value: 0.7877480586712683.\n"
          ]
        },
        {
          "name": "stdout",
          "output_type": "stream",
          "text": [
            "0.0412600040435791  seconds\n",
            "Classification report saved as melbourne-trans_classification_report_2025-07-07_16-21-35.txt\n",
            "{'max_depth': 24, 'criterion': 'log_loss'} 0.7517241379310344\n"
          ]
        }
      ],
      "source": [
        "best_params, best_score = clasfy.optimize_DT(train_nn_transformer, val_nn_transformer, test_nn_transformer,ny_train, ny_val, ny_test,namem)\n",
        "print(best_params, best_score)\n"
      ]
    },
    {
      "cell_type": "code",
      "execution_count": 11,
      "metadata": {
        "colab": {
          "base_uri": "https://localhost:8080/"
        },
        "id": "6yCeNtXA-9wY",
        "outputId": "d3206d21-89a3-4a2b-c120-1d4b986a0eae"
      },
      "outputs": [
        {
          "name": "stderr",
          "output_type": "stream",
          "text": [
            "[I 2025-07-07 16:21:35,326] A new study created in memory with name: no-name-3ffb032a-9dd9-4792-91bd-2128095b1eeb\n",
            "[I 2025-07-07 16:21:35,932] Trial 0 finished with value: 0.8101811906816221 and parameters: {'n_estimators': 160, 'max_depth': 22}. Best is trial 0 with value: 0.8101811906816221.\n",
            "[I 2025-07-07 16:21:36,348] Trial 1 finished with value: 0.7023295944779983 and parameters: {'n_estimators': 174, 'max_depth': 4}. Best is trial 0 with value: 0.8101811906816221.\n",
            "[I 2025-07-07 16:21:36,507] Trial 2 finished with value: 0.8050043140638481 and parameters: {'n_estimators': 39, 'max_depth': 20}. Best is trial 0 with value: 0.8101811906816221.\n",
            "[I 2025-07-07 16:21:36,766] Trial 3 finished with value: 0.5867126833477135 and parameters: {'n_estimators': 136, 'max_depth': 2}. Best is trial 0 with value: 0.8101811906816221.\n",
            "[I 2025-07-07 16:21:37,466] Trial 4 finished with value: 0.811044003451251 and parameters: {'n_estimators': 187, 'max_depth': 11}. Best is trial 4 with value: 0.811044003451251.\n",
            "[I 2025-07-07 16:21:37,629] Trial 5 finished with value: 0.817083692838654 and parameters: {'n_estimators': 42, 'max_depth': 18}. Best is trial 5 with value: 0.817083692838654.\n",
            "[I 2025-07-07 16:21:37,821] Trial 6 finished with value: 0.8067299396031061 and parameters: {'n_estimators': 51, 'max_depth': 32}. Best is trial 5 with value: 0.817083692838654.\n",
            "[I 2025-07-07 16:21:38,226] Trial 7 finished with value: 0.8093183779119931 and parameters: {'n_estimators': 111, 'max_depth': 22}. Best is trial 5 with value: 0.817083692838654.\n",
            "[I 2025-07-07 16:21:38,785] Trial 8 finished with value: 0.7834339948231234 and parameters: {'n_estimators': 177, 'max_depth': 7}. Best is trial 5 with value: 0.817083692838654.\n",
            "[I 2025-07-07 16:21:38,952] Trial 9 finished with value: 0.8075927523727351 and parameters: {'n_estimators': 44, 'max_depth': 26}. Best is trial 5 with value: 0.817083692838654.\n",
            "[I 2025-07-07 16:21:39,009] Trial 10 finished with value: 0.7834339948231234 and parameters: {'n_estimators': 11, 'max_depth': 14}. Best is trial 5 with value: 0.817083692838654.\n",
            "[I 2025-07-07 16:21:39,340] Trial 11 finished with value: 0.8067299396031061 and parameters: {'n_estimators': 84, 'max_depth': 13}. Best is trial 5 with value: 0.817083692838654.\n",
            "[I 2025-07-07 16:21:40,056] Trial 12 finished with value: 0.8075927523727351 and parameters: {'n_estimators': 200, 'max_depth': 10}. Best is trial 5 with value: 0.817083692838654.\n",
            "[I 2025-07-07 16:21:40,384] Trial 13 finished with value: 0.8127696289905091 and parameters: {'n_estimators': 86, 'max_depth': 16}. Best is trial 5 with value: 0.817083692838654.\n",
            "[I 2025-07-07 16:21:40,717] Trial 14 finished with value: 0.808455565142364 and parameters: {'n_estimators': 84, 'max_depth': 19}. Best is trial 5 with value: 0.817083692838654.\n",
            "[I 2025-07-07 16:21:40,994] Trial 15 finished with value: 0.814495254529767 and parameters: {'n_estimators': 74, 'max_depth': 16}. Best is trial 5 with value: 0.817083692838654.\n",
            "[I 2025-07-07 16:21:41,065] Trial 16 finished with value: 0.7989646246764452 and parameters: {'n_estimators': 15, 'max_depth': 27}. Best is trial 5 with value: 0.817083692838654.\n",
            "[I 2025-07-07 16:21:41,310] Trial 17 finished with value: 0.8058671268334772 and parameters: {'n_estimators': 64, 'max_depth': 17}. Best is trial 5 with value: 0.817083692838654.\n",
            "[I 2025-07-07 16:21:41,739] Trial 18 finished with value: 0.817083692838654 and parameters: {'n_estimators': 111, 'max_depth': 25}. Best is trial 5 with value: 0.817083692838654.\n",
            "[I 2025-07-07 16:21:42,343] Trial 19 finished with value: 0.8058671268334772 and parameters: {'n_estimators': 114, 'max_depth': 27}. Best is trial 5 with value: 0.817083692838654.\n",
            "[I 2025-07-07 16:21:43,041] Trial 20 finished with value: 0.8119068162208801 and parameters: {'n_estimators': 133, 'max_depth': 32}. Best is trial 5 with value: 0.817083692838654.\n",
            "[I 2025-07-07 16:21:43,412] Trial 21 finished with value: 0.8058671268334772 and parameters: {'n_estimators': 67, 'max_depth': 24}. Best is trial 5 with value: 0.817083692838654.\n",
            "[I 2025-07-07 16:21:43,868] Trial 22 finished with value: 0.813632441760138 and parameters: {'n_estimators': 99, 'max_depth': 16}. Best is trial 5 with value: 0.817083692838654.\n",
            "[I 2025-07-07 16:21:44,115] Trial 23 finished with value: 0.7989646246764452 and parameters: {'n_estimators': 63, 'max_depth': 19}. Best is trial 5 with value: 0.817083692838654.\n",
            "[I 2025-07-07 16:21:44,250] Trial 24 finished with value: 0.7989646246764452 and parameters: {'n_estimators': 33, 'max_depth': 29}. Best is trial 5 with value: 0.817083692838654.\n",
            "[I 2025-07-07 16:21:44,730] Trial 25 finished with value: 0.8101811906816221 and parameters: {'n_estimators': 129, 'max_depth': 23}. Best is trial 5 with value: 0.817083692838654.\n",
            "[I 2025-07-07 16:21:45,098] Trial 26 finished with value: 0.808455565142364 and parameters: {'n_estimators': 99, 'max_depth': 13}. Best is trial 5 with value: 0.817083692838654.\n",
            "[I 2025-07-07 16:21:45,194] Trial 27 finished with value: 0.7937877480586712 and parameters: {'n_estimators': 24, 'max_depth': 9}. Best is trial 5 with value: 0.817083692838654.\n",
            "[I 2025-07-07 16:21:45,405] Trial 28 finished with value: 0.814495254529767 and parameters: {'n_estimators': 54, 'max_depth': 20}. Best is trial 5 with value: 0.817083692838654.\n",
            "[I 2025-07-07 16:21:46,001] Trial 29 finished with value: 0.8101811906816221 and parameters: {'n_estimators': 154, 'max_depth': 22}. Best is trial 5 with value: 0.817083692838654.\n",
            "[I 2025-07-07 16:21:46,301] Trial 30 finished with value: 0.8093183779119931 and parameters: {'n_estimators': 80, 'max_depth': 25}. Best is trial 5 with value: 0.817083692838654.\n",
            "[I 2025-07-07 16:21:46,516] Trial 31 finished with value: 0.8093183779119931 and parameters: {'n_estimators': 53, 'max_depth': 20}. Best is trial 5 with value: 0.817083692838654.\n",
            "[I 2025-07-07 16:21:46,802] Trial 32 finished with value: 0.8075927523727351 and parameters: {'n_estimators': 72, 'max_depth': 18}. Best is trial 5 with value: 0.817083692838654.\n",
            "[I 2025-07-07 16:21:47,009] Trial 33 finished with value: 0.808455565142364 and parameters: {'n_estimators': 52, 'max_depth': 15}. Best is trial 5 with value: 0.817083692838654.\n",
            "[I 2025-07-07 16:21:47,147] Trial 34 finished with value: 0.8024158757549612 and parameters: {'n_estimators': 32, 'max_depth': 21}. Best is trial 5 with value: 0.817083692838654.\n",
            "[I 2025-07-07 16:21:47,690] Trial 35 finished with value: 0.8101811906816221 and parameters: {'n_estimators': 147, 'max_depth': 30}. Best is trial 5 with value: 0.817083692838654.\n",
            "[I 2025-07-07 16:21:48,162] Trial 36 finished with value: 0.8093183779119931 and parameters: {'n_estimators': 117, 'max_depth': 17}. Best is trial 5 with value: 0.817083692838654.\n",
            "[I 2025-07-07 16:21:48,521] Trial 37 finished with value: 0.8093183779119931 and parameters: {'n_estimators': 94, 'max_depth': 21}. Best is trial 5 with value: 0.817083692838654.\n",
            "[I 2025-07-07 16:21:48,691] Trial 38 finished with value: 0.8050043140638481 and parameters: {'n_estimators': 43, 'max_depth': 12}. Best is trial 5 with value: 0.817083692838654.\n",
            "[I 2025-07-07 16:21:48,938] Trial 39 finished with value: 0.7868852459016393 and parameters: {'n_estimators': 73, 'max_depth': 7}. Best is trial 5 with value: 0.817083692838654.\n",
            "[I 2025-07-07 16:21:49,144] Trial 40 finished with value: 0.8101811906816221 and parameters: {'n_estimators': 54, 'max_depth': 24}. Best is trial 5 with value: 0.817083692838654.\n",
            "[I 2025-07-07 16:21:49,524] Trial 41 finished with value: 0.8058671268334772 and parameters: {'n_estimators': 102, 'max_depth': 15}. Best is trial 5 with value: 0.817083692838654.\n",
            "[I 2025-07-07 16:21:49,993] Trial 42 finished with value: 0.8127696289905091 and parameters: {'n_estimators': 123, 'max_depth': 19}. Best is trial 5 with value: 0.817083692838654.\n",
            "[I 2025-07-07 16:21:50,342] Trial 43 finished with value: 0.811044003451251 and parameters: {'n_estimators': 93, 'max_depth': 17}. Best is trial 5 with value: 0.817083692838654.\n",
            "[I 2025-07-07 16:21:50,751] Trial 44 finished with value: 0.8127696289905091 and parameters: {'n_estimators': 107, 'max_depth': 15}. Best is trial 5 with value: 0.817083692838654.\n",
            "[I 2025-07-07 16:21:51,287] Trial 45 finished with value: 0.819672131147541 and parameters: {'n_estimators': 141, 'max_depth': 21}. Best is trial 45 with value: 0.819672131147541.\n",
            "[I 2025-07-07 16:21:51,818] Trial 46 finished with value: 0.8101811906816221 and parameters: {'n_estimators': 144, 'max_depth': 21}. Best is trial 45 with value: 0.819672131147541.\n",
            "[I 2025-07-07 16:21:52,463] Trial 47 finished with value: 0.8067299396031061 and parameters: {'n_estimators': 167, 'max_depth': 23}. Best is trial 45 with value: 0.819672131147541.\n",
            "[I 2025-07-07 16:21:52,571] Trial 48 finished with value: 0.8006902502157032 and parameters: {'n_estimators': 25, 'max_depth': 26}. Best is trial 45 with value: 0.819672131147541.\n",
            "[I 2025-07-07 16:21:53,105] Trial 49 finished with value: 0.8127696289905091 and parameters: {'n_estimators': 140, 'max_depth': 20}. Best is trial 45 with value: 0.819672131147541.\n",
            "[I 2025-07-07 16:21:53,343] Trial 50 finished with value: 0.8058671268334772 and parameters: {'n_estimators': 60, 'max_depth': 18}. Best is trial 45 with value: 0.819672131147541.\n",
            "[I 2025-07-07 16:21:53,864] Trial 51 finished with value: 0.8119068162208801 and parameters: {'n_estimators': 121, 'max_depth': 16}. Best is trial 45 with value: 0.819672131147541.\n",
            "[I 2025-07-07 16:21:54,289] Trial 52 finished with value: 0.8041415012942191 and parameters: {'n_estimators': 76, 'max_depth': 14}. Best is trial 45 with value: 0.819672131147541.\n",
            "[I 2025-07-07 16:21:55,259] Trial 53 finished with value: 0.8050043140638481 and parameters: {'n_estimators': 184, 'max_depth': 19}. Best is trial 45 with value: 0.819672131147541.\n",
            "[I 2025-07-07 16:21:55,701] Trial 54 finished with value: 0.8153580672993961 and parameters: {'n_estimators': 90, 'max_depth': 22}. Best is trial 45 with value: 0.819672131147541.\n",
            "[I 2025-07-07 16:21:56,068] Trial 55 finished with value: 0.8101811906816221 and parameters: {'n_estimators': 88, 'max_depth': 22}. Best is trial 45 with value: 0.819672131147541.\n",
            "[I 2025-07-07 16:21:56,263] Trial 56 finished with value: 0.8024158757549612 and parameters: {'n_estimators': 46, 'max_depth': 28}. Best is trial 45 with value: 0.819672131147541.\n",
            "[I 2025-07-07 16:21:56,403] Trial 57 finished with value: 0.8119068162208801 and parameters: {'n_estimators': 34, 'max_depth': 25}. Best is trial 45 with value: 0.819672131147541.\n",
            "[I 2025-07-07 16:21:56,667] Trial 58 finished with value: 0.8075927523727351 and parameters: {'n_estimators': 68, 'max_depth': 23}. Best is trial 45 with value: 0.819672131147541.\n",
            "[I 2025-07-07 16:21:56,907] Trial 59 finished with value: 0.8075927523727351 and parameters: {'n_estimators': 61, 'max_depth': 20}. Best is trial 45 with value: 0.819672131147541.\n",
            "[I 2025-07-07 16:21:57,503] Trial 60 finished with value: 0.811044003451251 and parameters: {'n_estimators': 158, 'max_depth': 18}. Best is trial 45 with value: 0.819672131147541.\n",
            "[I 2025-07-07 16:21:57,901] Trial 61 finished with value: 0.8101811906816221 and parameters: {'n_estimators': 108, 'max_depth': 24}. Best is trial 45 with value: 0.819672131147541.\n",
            "[I 2025-07-07 16:21:58,260] Trial 62 finished with value: 0.816220880069025 and parameters: {'n_estimators': 95, 'max_depth': 16}. Best is trial 45 with value: 0.819672131147541.\n",
            "[I 2025-07-07 16:21:58,610] Trial 63 finished with value: 0.8119068162208801 and parameters: {'n_estimators': 92, 'max_depth': 21}. Best is trial 45 with value: 0.819672131147541.\n",
            "[I 2025-07-07 16:21:58,916] Trial 64 finished with value: 0.8119068162208801 and parameters: {'n_estimators': 82, 'max_depth': 13}. Best is trial 45 with value: 0.819672131147541.\n",
            "[I 2025-07-07 16:21:59,405] Trial 65 finished with value: 0.817083692838654 and parameters: {'n_estimators': 127, 'max_depth': 22}. Best is trial 45 with value: 0.819672131147541.\n",
            "[I 2025-07-07 16:21:59,892] Trial 66 finished with value: 0.808455565142364 and parameters: {'n_estimators': 131, 'max_depth': 26}. Best is trial 45 with value: 0.819672131147541.\n",
            "[I 2025-07-07 16:22:00,325] Trial 67 finished with value: 0.816220880069025 and parameters: {'n_estimators': 114, 'max_depth': 23}. Best is trial 45 with value: 0.819672131147541.\n",
            "[I 2025-07-07 16:22:00,800] Trial 68 finished with value: 0.813632441760138 and parameters: {'n_estimators': 126, 'max_depth': 23}. Best is trial 45 with value: 0.819672131147541.\n",
            "[I 2025-07-07 16:22:01,243] Trial 69 finished with value: 0.8127696289905091 and parameters: {'n_estimators': 114, 'max_depth': 25}. Best is trial 45 with value: 0.819672131147541.\n",
            "[I 2025-07-07 16:22:01,798] Trial 70 finished with value: 0.8119068162208801 and parameters: {'n_estimators': 151, 'max_depth': 22}. Best is trial 45 with value: 0.819672131147541.\n",
            "[I 2025-07-07 16:22:02,339] Trial 71 finished with value: 0.817946505608283 and parameters: {'n_estimators': 140, 'max_depth': 24}. Best is trial 45 with value: 0.819672131147541.\n",
            "[I 2025-07-07 16:22:02,835] Trial 72 finished with value: 0.8101811906816221 and parameters: {'n_estimators': 134, 'max_depth': 27}. Best is trial 45 with value: 0.819672131147541.\n",
            "[I 2025-07-07 16:22:03,359] Trial 73 finished with value: 0.814495254529767 and parameters: {'n_estimators': 138, 'max_depth': 24}. Best is trial 45 with value: 0.819672131147541.\n",
            "[I 2025-07-07 16:22:03,801] Trial 74 finished with value: 0.808455565142364 and parameters: {'n_estimators': 118, 'max_depth': 30}. Best is trial 45 with value: 0.819672131147541.\n",
            "[I 2025-07-07 16:22:04,216] Trial 75 finished with value: 0.8058671268334772 and parameters: {'n_estimators': 111, 'max_depth': 22}. Best is trial 45 with value: 0.819672131147541.\n",
            "[I 2025-07-07 16:22:04,848] Trial 76 finished with value: 0.8075927523727351 and parameters: {'n_estimators': 168, 'max_depth': 26}. Best is trial 45 with value: 0.819672131147541.\n",
            "[I 2025-07-07 16:22:05,052] Trial 77 finished with value: 0.5815358067299397 and parameters: {'n_estimators': 102, 'max_depth': 2}. Best is trial 45 with value: 0.819672131147541.\n",
            "[I 2025-07-07 16:22:05,551] Trial 78 finished with value: 0.8119068162208801 and parameters: {'n_estimators': 126, 'max_depth': 24}. Best is trial 45 with value: 0.819672131147541.\n",
            "[I 2025-07-07 16:22:06,331] Trial 79 finished with value: 0.8101811906816221 and parameters: {'n_estimators': 148, 'max_depth': 19}. Best is trial 45 with value: 0.819672131147541.\n",
            "[I 2025-07-07 16:22:06,864] Trial 80 finished with value: 0.811044003451251 and parameters: {'n_estimators': 98, 'max_depth': 21}. Best is trial 45 with value: 0.819672131147541.\n",
            "[I 2025-07-07 16:22:07,585] Trial 81 finished with value: 0.811044003451251 and parameters: {'n_estimators': 141, 'max_depth': 17}. Best is trial 45 with value: 0.819672131147541.\n",
            "[I 2025-07-07 16:22:07,918] Trial 82 finished with value: 0.8058671268334772 and parameters: {'n_estimators': 87, 'max_depth': 16}. Best is trial 45 with value: 0.819672131147541.\n",
            "[I 2025-07-07 16:22:08,333] Trial 83 finished with value: 0.8075927523727351 and parameters: {'n_estimators': 111, 'max_depth': 18}. Best is trial 45 with value: 0.819672131147541.\n",
            "[I 2025-07-07 16:22:08,795] Trial 84 finished with value: 0.811044003451251 and parameters: {'n_estimators': 120, 'max_depth': 14}. Best is trial 45 with value: 0.819672131147541.\n",
            "[I 2025-07-07 16:22:09,198] Trial 85 finished with value: 0.8101811906816221 and parameters: {'n_estimators': 106, 'max_depth': 25}. Best is trial 45 with value: 0.819672131147541.\n",
            "[I 2025-07-07 16:22:09,689] Trial 86 finished with value: 0.813632441760138 and parameters: {'n_estimators': 129, 'max_depth': 23}. Best is trial 45 with value: 0.819672131147541.\n",
            "[I 2025-07-07 16:22:10,058] Trial 87 finished with value: 0.8127696289905091 and parameters: {'n_estimators': 98, 'max_depth': 20}. Best is trial 45 with value: 0.819672131147541.\n",
            "[I 2025-07-07 16:22:10,576] Trial 88 finished with value: 0.8101811906816221 and parameters: {'n_estimators': 137, 'max_depth': 22}. Best is trial 45 with value: 0.819672131147541.\n",
            "[I 2025-07-07 16:22:10,933] Trial 89 finished with value: 0.817946505608283 and parameters: {'n_estimators': 94, 'max_depth': 18}. Best is trial 45 with value: 0.819672131147541.\n",
            "[I 2025-07-07 16:22:11,232] Trial 90 finished with value: 0.8101811906816221 and parameters: {'n_estimators': 78, 'max_depth': 20}. Best is trial 45 with value: 0.819672131147541.\n",
            "[I 2025-07-07 16:22:11,606] Trial 91 finished with value: 0.8032786885245902 and parameters: {'n_estimators': 93, 'max_depth': 17}. Best is trial 45 with value: 0.819672131147541.\n",
            "[I 2025-07-07 16:22:11,999] Trial 92 finished with value: 0.817946505608283 and parameters: {'n_estimators': 104, 'max_depth': 18}. Best is trial 45 with value: 0.819672131147541.\n",
            "[I 2025-07-07 16:22:12,434] Trial 93 finished with value: 0.813632441760138 and parameters: {'n_estimators': 116, 'max_depth': 18}. Best is trial 45 with value: 0.819672131147541.\n",
            "[I 2025-07-07 16:22:12,901] Trial 94 finished with value: 0.819672131147541 and parameters: {'n_estimators': 123, 'max_depth': 19}. Best is trial 45 with value: 0.819672131147541.\n",
            "[I 2025-07-07 16:22:13,356] Trial 95 finished with value: 0.8050043140638481 and parameters: {'n_estimators': 123, 'max_depth': 19}. Best is trial 45 with value: 0.819672131147541.\n",
            "[I 2025-07-07 16:22:13,788] Trial 96 finished with value: 0.8153580672993961 and parameters: {'n_estimators': 112, 'max_depth': 15}. Best is trial 45 with value: 0.819672131147541.\n",
            "[I 2025-07-07 16:22:14,176] Trial 97 finished with value: 0.8093183779119931 and parameters: {'n_estimators': 103, 'max_depth': 21}. Best is trial 45 with value: 0.819672131147541.\n",
            "[I 2025-07-07 16:22:14,769] Trial 98 finished with value: 0.8050043140638481 and parameters: {'n_estimators': 156, 'max_depth': 16}. Best is trial 45 with value: 0.819672131147541.\n",
            "[I 2025-07-07 16:22:15,271] Trial 99 finished with value: 0.808455565142364 and parameters: {'n_estimators': 133, 'max_depth': 18}. Best is trial 45 with value: 0.819672131147541.\n"
          ]
        },
        {
          "name": "stdout",
          "output_type": "stream",
          "text": [
            "0.5325977802276611  seconds\n",
            "Classification report saved as melbourne-trans_classification_report_2025-07-07_16-22-15.txt\n",
            "{'n_estimators': 141, 'max_depth': 21} 0.7939655172413793\n"
          ]
        }
      ],
      "source": [
        "best_params, best_score = clasfy.optimize_RF(train_nn_transformer, val_nn_transformer, test_nn_transformer,ny_train, ny_val, ny_test,namem)\n",
        "print(best_params, best_score)"
      ]
    },
    {
      "cell_type": "code",
      "execution_count": 14,
      "metadata": {
        "colab": {
          "base_uri": "https://localhost:8080/"
        },
        "id": "UVvLbJzGDg_S",
        "outputId": "8ee8a6b3-cfde-4913-dce0-4dda567bd360"
      },
      "outputs": [
        {
          "name": "stderr",
          "output_type": "stream",
          "text": [
            "[I 2025-07-07 16:22:35,310] A new study created in memory with name: no-name-14c79f9c-d61f-476c-bb18-6e6cdb3fd595\n",
            "[I 2025-07-07 16:22:35,323] Trial 0 finished with value: 0.5314926660914582 and parameters: {'var_smoothing': 1.615341962004123e-12}. Best is trial 0 with value: 0.5314926660914582.\n",
            "[I 2025-07-07 16:22:35,334] Trial 1 finished with value: 0.5314926660914582 and parameters: {'var_smoothing': 7.916219835834229e-08}. Best is trial 0 with value: 0.5314926660914582.\n",
            "[I 2025-07-07 16:22:35,344] Trial 2 finished with value: 0.5306298533218292 and parameters: {'var_smoothing': 6.7628898911476615e-06}. Best is trial 0 with value: 0.5314926660914582.\n",
            "[I 2025-07-07 16:22:35,353] Trial 3 finished with value: 0.5306298533218292 and parameters: {'var_smoothing': 1.3554400447231215e-06}. Best is trial 0 with value: 0.5314926660914582.\n",
            "[I 2025-07-07 16:22:35,362] Trial 4 finished with value: 0.5314926660914582 and parameters: {'var_smoothing': 8.937414778202161e-11}. Best is trial 0 with value: 0.5314926660914582.\n",
            "[I 2025-07-07 16:22:35,370] Trial 5 finished with value: 0.5314926660914582 and parameters: {'var_smoothing': 6.762187597912057e-11}. Best is trial 0 with value: 0.5314926660914582.\n",
            "[I 2025-07-07 16:22:35,379] Trial 6 finished with value: 0.5314926660914582 and parameters: {'var_smoothing': 3.8661808544111733e-10}. Best is trial 0 with value: 0.5314926660914582.\n",
            "[I 2025-07-07 16:22:35,388] Trial 7 finished with value: 0.5314926660914582 and parameters: {'var_smoothing': 4.894683303214445e-12}. Best is trial 0 with value: 0.5314926660914582.\n",
            "[I 2025-07-07 16:22:35,397] Trial 8 finished with value: 0.5314926660914582 and parameters: {'var_smoothing': 2.377313835652643e-09}. Best is trial 0 with value: 0.5314926660914582.\n",
            "[I 2025-07-07 16:22:35,406] Trial 9 finished with value: 0.5306298533218292 and parameters: {'var_smoothing': 6.732405249520517e-06}. Best is trial 0 with value: 0.5314926660914582.\n",
            "[I 2025-07-07 16:22:35,420] Trial 10 finished with value: 0.5228645383951682 and parameters: {'var_smoothing': 0.00027430891315863553}. Best is trial 0 with value: 0.5314926660914582.\n",
            "[I 2025-07-07 16:22:35,434] Trial 11 finished with value: 0.5314926660914582 and parameters: {'var_smoothing': 1.8088664498287383e-08}. Best is trial 0 with value: 0.5314926660914582.\n",
            "[I 2025-07-07 16:22:35,451] Trial 12 finished with value: 0.4452113891285591 and parameters: {'var_smoothing': 0.005272614609292995}. Best is trial 0 with value: 0.5314926660914582.\n",
            "[I 2025-07-07 16:22:35,468] Trial 13 finished with value: 0.5314926660914582 and parameters: {'var_smoothing': 2.117938814458428e-12}. Best is trial 0 with value: 0.5314926660914582.\n",
            "[I 2025-07-07 16:22:35,480] Trial 14 finished with value: 0.5314926660914582 and parameters: {'var_smoothing': 1.303102349361967e-07}. Best is trial 0 with value: 0.5314926660914582.\n",
            "[I 2025-07-07 16:22:35,492] Trial 15 finished with value: 0.5314926660914582 and parameters: {'var_smoothing': 1.3723762474346773e-08}. Best is trial 0 with value: 0.5314926660914582.\n",
            "[I 2025-07-07 16:22:35,503] Trial 16 finished with value: 0.5228645383951682 and parameters: {'var_smoothing': 0.00023684844180853039}. Best is trial 0 with value: 0.5314926660914582.\n",
            "[I 2025-07-07 16:22:35,516] Trial 17 finished with value: 0.5314926660914582 and parameters: {'var_smoothing': 1.281385171557162e-12}. Best is trial 0 with value: 0.5314926660914582.\n",
            "[I 2025-07-07 16:22:35,528] Trial 18 finished with value: 0.5314926660914582 and parameters: {'var_smoothing': 7.576392606629508e-10}. Best is trial 0 with value: 0.5314926660914582.\n",
            "[I 2025-07-07 16:22:35,541] Trial 19 finished with value: 0.5314926660914582 and parameters: {'var_smoothing': 2.2126625514782931e-07}. Best is trial 0 with value: 0.5314926660914582.\n",
            "[I 2025-07-07 16:22:35,553] Trial 20 finished with value: 0.5314926660914582 and parameters: {'var_smoothing': 1.9380518735771785e-11}. Best is trial 0 with value: 0.5314926660914582.\n",
            "[I 2025-07-07 16:22:35,566] Trial 21 finished with value: 0.5314926660914582 and parameters: {'var_smoothing': 3.2396759973882454e-11}. Best is trial 0 with value: 0.5314926660914582.\n",
            "[I 2025-07-07 16:22:35,580] Trial 22 finished with value: 0.5314926660914582 and parameters: {'var_smoothing': 1.6620731395819453e-10}. Best is trial 0 with value: 0.5314926660914582.\n",
            "[I 2025-07-07 16:22:35,592] Trial 23 finished with value: 0.5314926660914582 and parameters: {'var_smoothing': 3.79408886630866e-09}. Best is trial 0 with value: 0.5314926660914582.\n",
            "[I 2025-07-07 16:22:35,605] Trial 24 finished with value: 0.5314926660914582 and parameters: {'var_smoothing': 1.026182808152973e-11}. Best is trial 0 with value: 0.5314926660914582.\n",
            "[I 2025-07-07 16:22:35,619] Trial 25 finished with value: 0.5314926660914582 and parameters: {'var_smoothing': 1.1548713962704871e-10}. Best is trial 0 with value: 0.5314926660914582.\n",
            "[I 2025-07-07 16:22:35,633] Trial 26 finished with value: 0.5314926660914582 and parameters: {'var_smoothing': 1.2036570659369603e-12}. Best is trial 0 with value: 0.5314926660914582.\n",
            "[I 2025-07-07 16:22:35,647] Trial 27 finished with value: 0.5314926660914582 and parameters: {'var_smoothing': 3.477549133290755e-08}. Best is trial 0 with value: 0.5314926660914582.\n",
            "[I 2025-07-07 16:22:35,662] Trial 28 finished with value: 0.5314926660914582 and parameters: {'var_smoothing': 1.633338499760882e-09}. Best is trial 0 with value: 0.5314926660914582.\n",
            "[I 2025-07-07 16:22:35,675] Trial 29 finished with value: 0.5314926660914582 and parameters: {'var_smoothing': 4.519019728166621e-07}. Best is trial 0 with value: 0.5314926660914582.\n",
            "[I 2025-07-07 16:22:35,688] Trial 30 finished with value: 0.5306298533218292 and parameters: {'var_smoothing': 9.96329000049792e-06}. Best is trial 0 with value: 0.5314926660914582.\n",
            "[I 2025-07-07 16:22:35,700] Trial 31 finished with value: 0.5314926660914582 and parameters: {'var_smoothing': 7.076180492799205e-11}. Best is trial 0 with value: 0.5314926660914582.\n",
            "[I 2025-07-07 16:22:35,713] Trial 32 finished with value: 0.5314926660914582 and parameters: {'var_smoothing': 9.487751204025647e-12}. Best is trial 0 with value: 0.5314926660914582.\n",
            "[I 2025-07-07 16:22:35,726] Trial 33 finished with value: 0.5314926660914582 and parameters: {'var_smoothing': 2.820179892810663e-10}. Best is trial 0 with value: 0.5314926660914582.\n",
            "[I 2025-07-07 16:22:35,738] Trial 34 finished with value: 0.5314926660914582 and parameters: {'var_smoothing': 6.077623821429894e-11}. Best is trial 0 with value: 0.5314926660914582.\n",
            "[I 2025-07-07 16:22:35,750] Trial 35 finished with value: 0.5314926660914582 and parameters: {'var_smoothing': 3.1914882477906527e-12}. Best is trial 0 with value: 0.5314926660914582.\n",
            "[I 2025-07-07 16:22:35,764] Trial 36 finished with value: 0.5306298533218292 and parameters: {'var_smoothing': 2.1192900806460775e-06}. Best is trial 0 with value: 0.5314926660914582.\n",
            "[I 2025-07-07 16:22:35,778] Trial 37 finished with value: 0.5314926660914582 and parameters: {'var_smoothing': 7.075268530442334e-09}. Best is trial 0 with value: 0.5314926660914582.\n",
            "[I 2025-07-07 16:22:35,791] Trial 38 finished with value: 0.5314926660914582 and parameters: {'var_smoothing': 1.2086786363436668e-09}. Best is trial 0 with value: 0.5314926660914582.\n",
            "[I 2025-07-07 16:22:35,804] Trial 39 finished with value: 0.5314926660914582 and parameters: {'var_smoothing': 8.157947547801996e-12}. Best is trial 0 with value: 0.5314926660914582.\n",
            "[I 2025-07-07 16:22:35,817] Trial 40 finished with value: 0.5297670405522001 and parameters: {'var_smoothing': 6.703443234434829e-05}. Best is trial 0 with value: 0.5314926660914582.\n",
            "[I 2025-07-07 16:22:35,829] Trial 41 finished with value: 0.5314926660914582 and parameters: {'var_smoothing': 6.909407549238353e-10}. Best is trial 0 with value: 0.5314926660914582.\n",
            "[I 2025-07-07 16:22:35,843] Trial 42 finished with value: 0.5314926660914582 and parameters: {'var_smoothing': 3.110167667885983e-10}. Best is trial 0 with value: 0.5314926660914582.\n",
            "[I 2025-07-07 16:22:35,855] Trial 43 finished with value: 0.5314926660914582 and parameters: {'var_smoothing': 5.205050462854448e-08}. Best is trial 0 with value: 0.5314926660914582.\n",
            "[I 2025-07-07 16:22:35,868] Trial 44 finished with value: 0.5314926660914582 and parameters: {'var_smoothing': 2.2404542193901394e-11}. Best is trial 0 with value: 0.5314926660914582.\n",
            "[I 2025-07-07 16:22:35,882] Trial 45 finished with value: 0.45297670405522 and parameters: {'var_smoothing': 0.0034756776142775316}. Best is trial 0 with value: 0.5314926660914582.\n",
            "[I 2025-07-07 16:22:35,895] Trial 46 finished with value: 0.5314926660914582 and parameters: {'var_smoothing': 4.837819630854449e-12}. Best is trial 0 with value: 0.5314926660914582.\n",
            "[I 2025-07-07 16:22:35,908] Trial 47 finished with value: 0.5314926660914582 and parameters: {'var_smoothing': 5.651714540889326e-09}. Best is trial 0 with value: 0.5314926660914582.\n",
            "[I 2025-07-07 16:22:35,922] Trial 48 finished with value: 0.5314926660914582 and parameters: {'var_smoothing': 4.20446216095609e-10}. Best is trial 0 with value: 0.5314926660914582.\n",
            "[I 2025-07-07 16:22:35,934] Trial 49 finished with value: 0.5314926660914582 and parameters: {'var_smoothing': 4.3834574030571525e-11}. Best is trial 0 with value: 0.5314926660914582.\n",
            "[I 2025-07-07 16:22:35,947] Trial 50 finished with value: 0.5314926660914582 and parameters: {'var_smoothing': 1.9777368988228023e-08}. Best is trial 0 with value: 0.5314926660914582.\n",
            "[I 2025-07-07 16:22:35,960] Trial 51 finished with value: 0.5314926660914582 and parameters: {'var_smoothing': 4.296460583803579e-12}. Best is trial 0 with value: 0.5314926660914582.\n",
            "[I 2025-07-07 16:22:35,973] Trial 52 finished with value: 0.5314926660914582 and parameters: {'var_smoothing': 1.507499959407537e-11}. Best is trial 0 with value: 0.5314926660914582.\n",
            "[I 2025-07-07 16:22:35,987] Trial 53 finished with value: 0.5314926660914582 and parameters: {'var_smoothing': 1.1309378642509374e-12}. Best is trial 0 with value: 0.5314926660914582.\n",
            "[I 2025-07-07 16:22:35,999] Trial 54 finished with value: 0.5314926660914582 and parameters: {'var_smoothing': 1.3032560251410512e-10}. Best is trial 0 with value: 0.5314926660914582.\n",
            "[I 2025-07-07 16:22:36,012] Trial 55 finished with value: 0.5314926660914582 and parameters: {'var_smoothing': 3.4158114846665225e-12}. Best is trial 0 with value: 0.5314926660914582.\n",
            "[I 2025-07-07 16:22:36,025] Trial 56 finished with value: 0.5314926660914582 and parameters: {'var_smoothing': 3.737202352684204e-11}. Best is trial 0 with value: 0.5314926660914582.\n",
            "[I 2025-07-07 16:22:36,038] Trial 57 finished with value: 0.5314926660914582 and parameters: {'var_smoothing': 2.403929181827932e-09}. Best is trial 0 with value: 0.5314926660914582.\n",
            "[I 2025-07-07 16:22:36,051] Trial 58 finished with value: 0.5314926660914582 and parameters: {'var_smoothing': 1.977893145343131e-12}. Best is trial 0 with value: 0.5314926660914582.\n",
            "[I 2025-07-07 16:22:36,064] Trial 59 finished with value: 0.5314926660914582 and parameters: {'var_smoothing': 1.6453693537601832e-11}. Best is trial 0 with value: 0.5314926660914582.\n",
            "[I 2025-07-07 16:22:36,077] Trial 60 finished with value: 0.5314926660914582 and parameters: {'var_smoothing': 1.1199164758714141e-10}. Best is trial 0 with value: 0.5314926660914582.\n",
            "[I 2025-07-07 16:22:36,091] Trial 61 finished with value: 0.5314926660914582 and parameters: {'var_smoothing': 9.586029576107255e-08}. Best is trial 0 with value: 0.5314926660914582.\n",
            "[I 2025-07-07 16:22:36,106] Trial 62 finished with value: 0.5314926660914582 and parameters: {'var_smoothing': 1.1761559768196909e-08}. Best is trial 0 with value: 0.5314926660914582.\n",
            "[I 2025-07-07 16:22:36,121] Trial 63 finished with value: 0.5314926660914582 and parameters: {'var_smoothing': 8.071560291259097e-10}. Best is trial 0 with value: 0.5314926660914582.\n",
            "[I 2025-07-07 16:22:36,133] Trial 64 finished with value: 0.5314926660914582 and parameters: {'var_smoothing': 4.869604897851842e-07}. Best is trial 0 with value: 0.5314926660914582.\n",
            "[I 2025-07-07 16:22:36,149] Trial 65 finished with value: 0.5314926660914582 and parameters: {'var_smoothing': 3.2752761696546992e-09}. Best is trial 0 with value: 0.5314926660914582.\n",
            "[I 2025-07-07 16:22:36,161] Trial 66 finished with value: 0.5314926660914582 and parameters: {'var_smoothing': 1.8539505426543582e-10}. Best is trial 0 with value: 0.5314926660914582.\n",
            "[I 2025-07-07 16:22:36,173] Trial 67 finished with value: 0.5314926660914582 and parameters: {'var_smoothing': 6.813910391697301e-12}. Best is trial 0 with value: 0.5314926660914582.\n",
            "[I 2025-07-07 16:22:36,187] Trial 68 finished with value: 0.5314926660914582 and parameters: {'var_smoothing': 5.5180746179262176e-11}. Best is trial 0 with value: 0.5314926660914582.\n",
            "[I 2025-07-07 16:22:36,200] Trial 69 finished with value: 0.5314926660914582 and parameters: {'var_smoothing': 2.528652291206712e-11}. Best is trial 0 with value: 0.5314926660914582.\n",
            "[I 2025-07-07 16:22:36,213] Trial 70 finished with value: 0.5314926660914582 and parameters: {'var_smoothing': 3.992667137904068e-10}. Best is trial 0 with value: 0.5314926660914582.\n",
            "[I 2025-07-07 16:22:36,226] Trial 71 finished with value: 0.5314926660914582 and parameters: {'var_smoothing': 3.718367380174828e-08}. Best is trial 0 with value: 0.5314926660914582.\n",
            "[I 2025-07-07 16:22:36,238] Trial 72 finished with value: 0.5314926660914582 and parameters: {'var_smoothing': 1.8572845054650307e-09}. Best is trial 0 with value: 0.5314926660914582.\n",
            "[I 2025-07-07 16:22:36,250] Trial 73 finished with value: 0.5314926660914582 and parameters: {'var_smoothing': 1.701267384282701e-08}. Best is trial 0 with value: 0.5314926660914582.\n",
            "[I 2025-07-07 16:22:36,265] Trial 74 finished with value: 0.5314926660914582 and parameters: {'var_smoothing': 2.3118516609614177e-07}. Best is trial 0 with value: 0.5314926660914582.\n",
            "[I 2025-07-07 16:22:36,278] Trial 75 finished with value: 0.5314926660914582 and parameters: {'var_smoothing': 6.205218443331674e-09}. Best is trial 0 with value: 0.5314926660914582.\n",
            "[I 2025-07-07 16:22:36,292] Trial 76 finished with value: 0.5314926660914582 and parameters: {'var_smoothing': 9.192739747811768e-10}. Best is trial 0 with value: 0.5314926660914582.\n",
            "[I 2025-07-07 16:22:36,305] Trial 77 finished with value: 0.5314926660914582 and parameters: {'var_smoothing': 6.835399891699616e-08}. Best is trial 0 with value: 0.5314926660914582.\n",
            "[I 2025-07-07 16:22:36,317] Trial 78 finished with value: 0.5314926660914582 and parameters: {'var_smoothing': 2.3112095460520914e-12}. Best is trial 0 with value: 0.5314926660914582.\n",
            "[I 2025-07-07 16:22:36,330] Trial 79 finished with value: 0.5314926660914582 and parameters: {'var_smoothing': 2.2786564111090928e-10}. Best is trial 0 with value: 0.5314926660914582.\n",
            "[I 2025-07-07 16:22:36,345] Trial 80 finished with value: 0.5314926660914582 and parameters: {'var_smoothing': 2.10721640655626e-07}. Best is trial 0 with value: 0.5314926660914582.\n",
            "[I 2025-07-07 16:22:36,359] Trial 81 finished with value: 0.5314926660914582 and parameters: {'var_smoothing': 1.5701409457759652e-12}. Best is trial 0 with value: 0.5314926660914582.\n",
            "[I 2025-07-07 16:22:36,372] Trial 82 finished with value: 0.5314926660914582 and parameters: {'var_smoothing': 8.960303080215405e-12}. Best is trial 0 with value: 0.5314926660914582.\n",
            "[I 2025-07-07 16:22:36,385] Trial 83 finished with value: 0.5314926660914582 and parameters: {'var_smoothing': 8.588391920827864e-11}. Best is trial 0 with value: 0.5314926660914582.\n",
            "[I 2025-07-07 16:22:36,399] Trial 84 finished with value: 0.5314926660914582 and parameters: {'var_smoothing': 5.237522060007874e-12}. Best is trial 0 with value: 0.5314926660914582.\n",
            "[I 2025-07-07 16:22:36,411] Trial 85 finished with value: 0.5314926660914582 and parameters: {'var_smoothing': 1.3130118925359916e-11}. Best is trial 0 with value: 0.5314926660914582.\n",
            "[I 2025-07-07 16:22:36,423] Trial 86 finished with value: 0.5314926660914582 and parameters: {'var_smoothing': 5.91715428367372e-10}. Best is trial 0 with value: 0.5314926660914582.\n",
            "[I 2025-07-07 16:22:36,436] Trial 87 finished with value: 0.5314926660914582 and parameters: {'var_smoothing': 2.5988537316092265e-12}. Best is trial 0 with value: 0.5314926660914582.\n",
            "[I 2025-07-07 16:22:36,449] Trial 88 finished with value: 0.5314926660914582 and parameters: {'var_smoothing': 2.6050156913965095e-08}. Best is trial 0 with value: 0.5314926660914582.\n",
            "[I 2025-07-07 16:22:36,463] Trial 89 finished with value: 0.5314926660914582 and parameters: {'var_smoothing': 1.1234974581375748e-08}. Best is trial 0 with value: 0.5314926660914582.\n",
            "[I 2025-07-07 16:22:36,480] Trial 90 finished with value: 0.5314926660914582 and parameters: {'var_smoothing': 2.977249086754563e-11}. Best is trial 0 with value: 0.5314926660914582.\n",
            "[I 2025-07-07 16:22:36,499] Trial 91 finished with value: 0.5314926660914582 and parameters: {'var_smoothing': 1.033290333360584e-12}. Best is trial 0 with value: 0.5314926660914582.\n",
            "[I 2025-07-07 16:22:36,512] Trial 92 finished with value: 0.5314926660914582 and parameters: {'var_smoothing': 7.085126541541658e-07}. Best is trial 0 with value: 0.5314926660914582.\n",
            "[I 2025-07-07 16:22:36,525] Trial 93 finished with value: 0.5306298533218292 and parameters: {'var_smoothing': 4.523527679401052e-06}. Best is trial 0 with value: 0.5314926660914582.\n",
            "[I 2025-07-07 16:22:36,537] Trial 94 finished with value: 0.5314926660914582 and parameters: {'var_smoothing': 1.3563097362129212e-09}. Best is trial 0 with value: 0.5314926660914582.\n",
            "[I 2025-07-07 16:22:36,550] Trial 95 finished with value: 0.5314926660914582 and parameters: {'var_smoothing': 1.9768423145397213e-07}. Best is trial 0 with value: 0.5314926660914582.\n",
            "[I 2025-07-07 16:22:36,565] Trial 96 finished with value: 0.5314926660914582 and parameters: {'var_smoothing': 1.3231186345999202e-07}. Best is trial 0 with value: 0.5314926660914582.\n",
            "[I 2025-07-07 16:22:36,578] Trial 97 finished with value: 0.5314926660914582 and parameters: {'var_smoothing': 3.0124633368192703e-09}. Best is trial 0 with value: 0.5314926660914582.\n",
            "[I 2025-07-07 16:22:36,591] Trial 98 finished with value: 0.5306298533218292 and parameters: {'var_smoothing': 1.0171416223238315e-06}. Best is trial 0 with value: 0.5314926660914582.\n",
            "[I 2025-07-07 16:22:36,603] Trial 99 finished with value: 0.5314926660914582 and parameters: {'var_smoothing': 4.461309775988371e-09}. Best is trial 0 with value: 0.5314926660914582.\n"
          ]
        },
        {
          "name": "stdout",
          "output_type": "stream",
          "text": [
            "Best hyperparameters:  {'var_smoothing': 1.615341962004123e-12}\n",
            "Best validation accuracy:  0.5314926660914582\n",
            "Test accuracy: 0.5431034482758621\n",
            "Time taken: 0.00912165641784668 seconds\n",
            "Classification report saved as melbourne-trans_classification_report_2025-07-07_16-22-36.txt\n",
            "{'var_smoothing': 1.615341962004123e-12} 0.5431034482758621\n"
          ]
        }
      ],
      "source": [
        "best_params, best_score = clasfy2.optimize_NB(train_nn_transformer, val_nn_transformer, test_nn_transformer, ny_train, ny_val, ny_test,namem)\n",
        "print(best_params, best_score)\n"
      ]
    }
  ],
  "metadata": {
    "accelerator": "GPU",
    "colab": {
      "gpuType": "T4",
      "machine_shape": "hm",
      "provenance": []
    },
    "kernelspec": {
      "display_name": "Python 3",
      "name": "python3"
    },
    "language_info": {
      "name": "python"
    }
  },
  "nbformat": 4,
  "nbformat_minor": 0
}
