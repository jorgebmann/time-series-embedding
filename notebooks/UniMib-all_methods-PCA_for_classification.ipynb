{
  "cells": [
    {
      "cell_type": "code",
      "execution_count": null,
      "metadata": {
        "id": "q6H67o-YARCx"
      },
      "outputs": [],
      "source": [
        "import os\n",
        "import shutil #https://docs.python.org/3/library/shutil.html\n",
        "from shutil import unpack_archive # to unzip\n",
        "#from shutil import make_archive # to create zip for storage\n",
        "import requests #for downloading zip file\n",
        "from scipy import io #for loadmat, matlab conversion\n",
        "import pandas as pd\n",
        "import numpy as np\n",
        "import torch\n",
        "#import matplotlib.pyplot as plt # for plotting - pandas uses matplotlib\n",
        "from tabulate import tabulate # for verbose tables\n",
        "from tensorflow.keras.utils import to_categorical # for one-hot encoding"
      ]
    },
    {
      "cell_type": "code",
      "execution_count": null,
      "metadata": {
        "id": "AaJNzu45Bi4j"
      },
      "outputs": [],
      "source": [
        "#credit https://stackoverflow.com/questions/9419162/download-returned-zip-file-from-url\n",
        "#many other methods I tried failed to download the file properly\n",
        "def download_url(url, save_path, chunk_size=128):\n",
        "    r = requests.get(url, stream=True)\n",
        "    with open(save_path, 'wb') as fd:\n",
        "        for chunk in r.iter_content(chunk_size=chunk_size):\n",
        "            fd.write(chunk)"
      ]
    },
    {
      "cell_type": "code",
      "execution_count": null,
      "metadata": {
        "id": "trfLorthy59i"
      },
      "outputs": [],
      "source": [
        "def unimib_load_dataset(\n",
        "    verbose = True,\n",
        "    incl_xyz_accel = False, #include component accel_x/y/z in ____X data\n",
        "    incl_rms_accel = True, #add rms value (total accel) of accel_x/y/z in ____X data\n",
        "    incl_val_group = False, #True => returns x/y_test, x/y_validation, x/y_train\n",
        "                           #False => combine test & validation groups\n",
        "    split_subj = dict\n",
        "                (train_subj = [4,5,6,7,8,10,11,12,14,15,19,20,21,22,24,26,27,29],\n",
        "                validation_subj = [1,9,16,23,25,28],\n",
        "                test_subj = [2,3,13,17,18,30]),\n",
        "    one_hot_encode = True):\n",
        "    #Download and unzip original dataset\n",
        "    if (not os.path.isfile('./UniMiB-SHAR.zip')):\n",
        "        print(\"Downloading UniMiB-SHAR.zip file\")\n",
        "        #invoking the shell command fails when exported to .py file\n",
        "        #redirect link https://www.dropbox.com/s/raw/x2fpfqj0bpf8ep6/UniMiB-SHAR.zip\n",
        "        #!wget https://www.dropbox.com/s/x2fpfqj0bpf8ep6/UniMiB-SHAR.zip\n",
        "        download_url('https://www.dropbox.com/s/raw/x2fpfqj0bpf8ep6/UniMiB-SHAR.zip','./UniMiB-SHAR.zip')\n",
        "    if (not os.path.isdir('./UniMiB-SHAR')):\n",
        "        shutil.unpack_archive('./UniMiB-SHAR.zip','.','zip')\n",
        "    #Convert .mat files to numpy ndarrays\n",
        "    path_in = './UniMiB-SHAR/data'\n",
        "    #loadmat loads matlab files as dictionary, keys: header, version, globals, data\n",
        "    adl_data = io.loadmat(path_in + '/adl_data.mat')['adl_data']\n",
        "    adl_names = io.loadmat(path_in + '/adl_names.mat', chars_as_strings=True)['adl_names']\n",
        "    adl_labels = io.loadmat(path_in + '/adl_labels.mat')['adl_labels']\n",
        "\n",
        "    if(verbose):\n",
        "        headers = (\"Raw data\",\"shape\", \"object type\", \"data type\")\n",
        "        mydata = [(\"adl_data:\", adl_data.shape, type(adl_data), adl_data.dtype),\n",
        "                (\"adl_labels:\", adl_labels.shape ,type(adl_labels), adl_labels.dtype),\n",
        "                (\"adl_names:\", adl_names.shape, type(adl_names), adl_names.dtype)]\n",
        "        print(tabulate(mydata, headers=headers))\n",
        "    #Reshape data and compute total (rms) acceleration\n",
        "    num_samples = 151\n",
        "    #UniMiB SHAR has fixed size of 453 which is 151 accelX, 151 accely, 151 accelz\n",
        "    adl_data = np.reshape(adl_data,(-1,num_samples,3), order='F') #uses Fortran order\n",
        "    if (incl_rms_accel):\n",
        "        rms_accel = np.sqrt((adl_data[:,:,0]**2) + (adl_data[:,:,1]**2) + (adl_data[:,:,2]**2))\n",
        "        adl_data = np.dstack((adl_data,rms_accel))\n",
        "    #remove component accel if needed\n",
        "    if (not incl_xyz_accel):\n",
        "        adl_data = np.delete(adl_data, [0,1,2], 2)\n",
        "    if(verbose):\n",
        "        headers = (\"Reshaped data\",\"shape\", \"object type\", \"data type\")\n",
        "        mydata = [(\"adl_data:\", adl_data.shape, type(adl_data), adl_data.dtype),\n",
        "                (\"adl_labels:\", adl_labels.shape ,type(adl_labels), adl_labels.dtype),\n",
        "                (\"adl_names:\", adl_names.shape, type(adl_names), adl_names.dtype)]\n",
        "        print(tabulate(mydata, headers=headers))\n",
        "    #Split train/test sets, combine or make separate validation set\n",
        "    #ref for this numpy gymnastics - find index of matching subject to sub_train/sub_test/sub_validate\n",
        "    #https://numpy.org/doc/stable/reference/generated/numpy.isin.html\n",
        "\n",
        "\n",
        "    act_num = (adl_labels[:,0])-1 #matlab source was 1 indexed, change to 0 indexed\n",
        "    sub_num = (adl_labels[:,1]) #subject numbers are in column 1 of labels\n",
        "\n",
        "    if (not incl_val_group):\n",
        "        train_index = np.nonzero(np.isin(sub_num, split_subj['train_subj'] +\n",
        "                                        split_subj['validation_subj']))\n",
        "        x_train = adl_data[train_index]\n",
        "        y_train = act_num[train_index]\n",
        "    else:\n",
        "        train_index = np.nonzero(np.isin(sub_num, split_subj['train_subj']))\n",
        "        x_train = adl_data[train_index]\n",
        "        y_train = act_num[train_index]\n",
        "\n",
        "        validation_index = np.nonzero(np.isin(sub_num, split_subj['validation_subj']))\n",
        "        x_validation = adl_data[validation_index]\n",
        "        y_validation = act_num[validation_index]\n",
        "\n",
        "    test_index = np.nonzero(np.isin(sub_num, split_subj['test_subj']))\n",
        "    x_test = adl_data[test_index]\n",
        "    y_test = act_num[test_index]\n",
        "\n",
        "    if (verbose):\n",
        "        print(\"x/y_train shape \",x_train.shape,y_train.shape)\n",
        "        if (incl_val_group):\n",
        "            print(\"x/y_validation shape \",x_validation.shape,y_validation.shape)\n",
        "        print(\"x/y_test shape  \",x_test.shape,y_test.shape)\n",
        "    #If selected one-hot encode y_* using keras to_categorical, reference:\n",
        "    #https://keras.io/api/utils/python_utils/#to_categorical-function and\n",
        "    #https://machinelearningmastery.com/how-to-one-hot-encode-sequence-data-in-python/\n",
        "    if (one_hot_encode):\n",
        "        y_train = to_categorical(y_train, num_classes=9)\n",
        "        if (incl_val_group):\n",
        "            y_validation = to_categorical(y_validation, num_classes=9)\n",
        "        y_test = to_categorical(y_test, num_classes=9)\n",
        "        if (verbose):\n",
        "            print(\"After one-hot encoding\")\n",
        "            print(\"x/y_train shape \",x_train.shape,y_train.shape)\n",
        "            if (incl_val_group):\n",
        "                print(\"x/y_validation shape \",x_validation.shape,y_validation.shape)\n",
        "            print(\"x/y_test shape  \",x_test.shape,y_test.shape)\n",
        "    if (incl_val_group):\n",
        "        return x_train, y_train, x_validation, y_validation, x_test, y_test\n",
        "    else:\n",
        "        return x_train, y_train, x_test, y_test"
      ]
    },
    {
      "cell_type": "code",
      "execution_count": null,
      "metadata": {
        "colab": {
          "base_uri": "https://localhost:8080/"
        },
        "id": "caytRhXfhkU1",
        "outputId": "f05dcf38-dc2b-49cd-eafa-82d0b2251f23"
      },
      "outputs": [
        {
          "name": "stdout",
          "output_type": "stream",
          "text": [
            "Downloading and processing UniMiB SHAR dataset, ADL Portion\n",
            "Raw data     shape        object type              data type\n",
            "-----------  -----------  -----------------------  -----------\n",
            "adl_data:    (7579, 453)  <class 'numpy.ndarray'>  float64\n",
            "adl_labels:  (7579, 3)    <class 'numpy.ndarray'>  uint8\n",
            "adl_names:   (9, 1)       <class 'numpy.ndarray'>  object\n",
            "Reshaped data    shape           object type              data type\n",
            "---------------  --------------  -----------------------  -----------\n",
            "adl_data:        (7579, 151, 1)  <class 'numpy.ndarray'>  float64\n",
            "adl_labels:      (7579, 3)       <class 'numpy.ndarray'>  uint8\n",
            "adl_names:       (9, 1)          <class 'numpy.ndarray'>  object\n",
            "x/y_train shape  (4601, 151, 1) (4601,)\n",
            "x/y_validation shape  (1454, 151, 1) (1454,)\n",
            "x/y_test shape   (1524, 151, 1) (1524,)\n",
            "\n",
            "UniMiB SHAR returned arrays:\n",
            "x_train shape  (4601, 151, 1)  y_train shape  (4601,)\n",
            "x_test shape   (1524, 151, 1)  y_test shape   (1524,)\n"
          ]
        }
      ],
      "source": [
        "if __name__ == \"__main__\":\n",
        "    print(\"Downloading and processing UniMiB SHAR dataset, ADL Portion\")\n",
        "    x_train, y_train, x_val, y_val, x_test, y_test = unimib_load_dataset(incl_val_group=True, one_hot_encode = False)\n",
        "    print(\"\\nUniMiB SHAR returned arrays:\")\n",
        "    print(\"x_train shape \",x_train.shape,\" y_train shape \", y_train.shape)\n",
        "    print(\"x_test shape  \",x_test.shape,\" y_test shape  \",y_test.shape)"
      ]
    },
    {
      "cell_type": "code",
      "execution_count": null,
      "metadata": {
        "id": "Yi4TEFORJQ1N"
      },
      "outputs": [],
      "source": [
        "x_train_df=pd.DataFrame(x_train.reshape(x_train.shape[0], x_train.shape[1]))\n",
        "x_val_df=pd.DataFrame(x_val.reshape(x_val.shape[0], x_val.shape[1]))\n",
        "x_test_df=pd.DataFrame(x_test.reshape(x_test.shape[0], x_test.shape[1]))\n",
        "y_train=pd.DataFrame(y_train)\n",
        "y_val=pd.DataFrame(y_val)\n",
        "y_test=pd.DataFrame(y_test)"
      ]
    },
    {
      "cell_type": "markdown",
      "metadata": {
        "id": "CNQB89sZPmtK"
      },
      "source": [
        "## <span style='font-family:\"Times New Roman\"'><font color='Blue'> **For the Embedding**\n",
        "\n",
        "Any of the functions discussed in the paper can be used here."
      ]
    },
    {
      "cell_type": "code",
      "execution_count": null,
      "metadata": {
        "id": "VxBZmebwP4DO"
      },
      "outputs": [],
      "source": [
        "# Now you can import the script\n",
        "import scripts.embd_fgit as embd\n",
        "import scripts.clasfy_p1 as clasfy\n",
        "import scripts.clasfy_p2 as clasfy2\n",
        "import pandas as pd\n",
        "import numpy as np\n"
      ]
    },
    {
      "cell_type": "code",
      "execution_count": null,
      "metadata": {
        "id": "p3lH4FLux3Fp"
      },
      "outputs": [],
      "source": [
        "train_sct, val_sct, test_sct = embd.std_scaling(x_train_df, x_val_df, x_test_df)"
      ]
    },
    {
      "cell_type": "markdown",
      "metadata": {
        "id": "UdI5Hj18x3Fq"
      },
      "source": [
        "## For the PCA Embedding"
      ]
    },
    {
      "cell_type": "code",
      "execution_count": null,
      "metadata": {
        "id": "2dIVI9KhQM6A"
      },
      "outputs": [],
      "source": [
        "train_emb, val_emb, test_emb = embd.pca_embedding(train_sct, val_sct, test_sct,96)"
      ]
    },
    {
      "cell_type": "code",
      "execution_count": null,
      "metadata": {
        "id": "mKRhWowJx3Fq"
      },
      "outputs": [],
      "source": [
        "#to save and load the work later on,\n",
        "np.savetxt('um_pca_embeddings.txt', train_emb)\n",
        "np.savetxt('um_pca_embeddings.txt', test_emb)\n",
        "np.savetxt('um_pca_embeddings.txt', val_emb)"
      ]
    },
    {
      "cell_type": "markdown",
      "metadata": {
        "id": "YYG9eO0qx3Fr"
      },
      "source": [
        "# Another example, the TDA embedding method"
      ]
    },
    {
      "cell_type": "code",
      "execution_count": null,
      "metadata": {
        "id": "AQ5oS1SBx3Fr"
      },
      "outputs": [],
      "source": [
        "train_sct, val_sct, test_sct = embd.minmax_scaling(x_train_df, x_val_df, x_test_df)"
      ]
    },
    {
      "cell_type": "code",
      "execution_count": null,
      "metadata": {
        "id": "RekFhfPqx3Fr"
      },
      "outputs": [],
      "source": [
        "train_emb, val_emb, test_emb = embd.TDA_embedding(train_sct, val_sct, test_sct)"
      ]
    },
    {
      "cell_type": "code",
      "execution_count": null,
      "metadata": {
        "id": "hlTQkDwsTVP8"
      },
      "outputs": [],
      "source": [
        "device = torch.device(\"cuda\" if torch.cuda.is_available() else \"cpu\")"
      ]
    },
    {
      "cell_type": "code",
      "execution_count": null,
      "metadata": {
        "colab": {
          "base_uri": "https://localhost:8080/"
        },
        "id": "pXmlgcVDTf_F",
        "outputId": "875f7f09-2094-44b9-d1fb-5556f4b9c3a1"
      },
      "outputs": [
        {
          "name": "stdout",
          "output_type": "stream",
          "text": [
            "Device: cuda:0\n"
          ]
        }
      ],
      "source": [
        "tensor = torch.tensor([1, 2, 3]).to(device)\n",
        "\n",
        "# Print out the device\n",
        "print(\"Device:\", tensor.device)"
      ]
    },
    {
      "cell_type": "code",
      "execution_count": null,
      "metadata": {
        "id": "uRjlBi8-x3Fs"
      },
      "outputs": [],
      "source": [
        "import warnings\n",
        "warnings.filterwarnings('ignore')"
      ]
    },
    {
      "cell_type": "markdown",
      "metadata": {
        "id": "t1UH3MHmx3Fs"
      },
      "source": [
        "## <span style='font-family:\"Times New Roman\"'><font color='Blue'> **For the classification**\n",
        "\n",
        "For this purpose, we use the classification script, which would run 100 trials with optuna to tune the parameters based on the validation accuracy, and return the best parameters, running time, alongside the classification accuracy and report .txt file named by the system time."
      ]
    },
    {
      "cell_type": "code",
      "execution_count": null,
      "metadata": {
        "id": "weEUdvoex3Ft"
      },
      "outputs": [],
      "source": [
        "ny_train=y_train+1\n",
        "ny_val=y_val+1\n",
        "ny_test=y_test+1"
      ]
    },
    {
      "cell_type": "code",
      "execution_count": null,
      "metadata": {
        "id": "0_g4YLN8T20A",
        "outputId": "fa33f539-53e6-4bc9-98ff-7c2a3640750e"
      },
      "outputs": [
        {
          "name": "stderr",
          "output_type": "stream",
          "text": [
            "[I 2024-08-24 03:20:42,047] A new study created in memory with name: no-name-091ef487-20c1-4067-bce7-33db69b2615e\n",
            "[I 2024-08-24 03:20:44,157] Trial 0 finished with value: 0.6746905089408528 and parameters: {'n_estimators': 169, 'max_depth': 6}. Best is trial 0 with value: 0.6746905089408528.\n",
            "[I 2024-08-24 03:20:45,043] Trial 1 finished with value: 0.6939477303988996 and parameters: {'n_estimators': 40, 'max_depth': 31}. Best is trial 1 with value: 0.6939477303988996.\n",
            "[I 2024-08-24 03:20:48,732] Trial 2 finished with value: 0.7028885832187071 and parameters: {'n_estimators': 176, 'max_depth': 14}. Best is trial 2 with value: 0.7028885832187071.\n",
            "[I 2024-08-24 03:20:50,057] Trial 3 finished with value: 0.6499312242090785 and parameters: {'n_estimators': 124, 'max_depth': 5}. Best is trial 2 with value: 0.7028885832187071.\n",
            "[I 2024-08-24 03:20:51,836] Trial 4 finished with value: 0.702200825309491 and parameters: {'n_estimators': 80, 'max_depth': 29}. Best is trial 2 with value: 0.7028885832187071.\n",
            "[I 2024-08-24 03:20:52,673] Trial 5 finished with value: 0.6850068775790922 and parameters: {'n_estimators': 40, 'max_depth': 15}. Best is trial 2 with value: 0.7028885832187071.\n",
            "[I 2024-08-24 03:20:54,311] Trial 6 finished with value: 0.6939477303988996 and parameters: {'n_estimators': 75, 'max_depth': 18}. Best is trial 2 with value: 0.7028885832187071.\n",
            "[I 2024-08-24 03:20:55,457] Trial 7 finished with value: 0.6581843191196699 and parameters: {'n_estimators': 106, 'max_depth': 5}. Best is trial 2 with value: 0.7028885832187071.\n",
            "[I 2024-08-24 03:20:56,569] Trial 8 finished with value: 0.5543328748280605 and parameters: {'n_estimators': 159, 'max_depth': 3}. Best is trial 2 with value: 0.7028885832187071.\n",
            "[I 2024-08-24 03:20:57,609] Trial 9 finished with value: 0.6932599724896836 and parameters: {'n_estimators': 49, 'max_depth': 15}. Best is trial 2 with value: 0.7028885832187071.\n",
            "[I 2024-08-24 03:21:01,925] Trial 10 finished with value: 0.7090784044016506 and parameters: {'n_estimators': 194, 'max_depth': 22}. Best is trial 10 with value: 0.7090784044016506.\n",
            "[I 2024-08-24 03:21:06,350] Trial 11 finished with value: 0.7001375515818432 and parameters: {'n_estimators': 199, 'max_depth': 23}. Best is trial 10 with value: 0.7090784044016506.\n",
            "[I 2024-08-24 03:21:10,657] Trial 12 finished with value: 0.7056396148555708 and parameters: {'n_estimators': 196, 'max_depth': 20}. Best is trial 10 with value: 0.7090784044016506.\n",
            "[I 2024-08-24 03:21:13,707] Trial 13 finished with value: 0.7125171939477304 and parameters: {'n_estimators': 138, 'max_depth': 23}. Best is trial 13 with value: 0.7125171939477304.\n",
            "[I 2024-08-24 03:21:16,613] Trial 14 finished with value: 0.7015130674002751 and parameters: {'n_estimators': 131, 'max_depth': 26}. Best is trial 13 with value: 0.7125171939477304.\n",
            "[I 2024-08-24 03:21:19,783] Trial 15 finished with value: 0.7056396148555708 and parameters: {'n_estimators': 143, 'max_depth': 23}. Best is trial 13 with value: 0.7125171939477304.\n",
            "[I 2024-08-24 03:21:23,236] Trial 16 finished with value: 0.7028885832187071 and parameters: {'n_estimators': 155, 'max_depth': 26}. Best is trial 13 with value: 0.7125171939477304.\n",
            "[I 2024-08-24 03:21:23,435] Trial 17 finished with value: 0.671251719394773 and parameters: {'n_estimators': 10, 'max_depth': 11}. Best is trial 13 with value: 0.7125171939477304.\n",
            "[I 2024-08-24 03:21:25,828] Trial 18 finished with value: 0.7042640990371389 and parameters: {'n_estimators': 107, 'max_depth': 22}. Best is trial 13 with value: 0.7125171939477304.\n",
            "[I 2024-08-24 03:21:29,832] Trial 19 finished with value: 0.7008253094910591 and parameters: {'n_estimators': 179, 'max_depth': 27}. Best is trial 13 with value: 0.7125171939477304.\n",
            "[I 2024-08-24 03:21:32,181] Trial 20 finished with value: 0.687757909215956 and parameters: {'n_estimators': 130, 'max_depth': 10}. Best is trial 13 with value: 0.7125171939477304.\n",
            "[I 2024-08-24 03:21:36,629] Trial 21 finished with value: 0.7077028885832187 and parameters: {'n_estimators': 200, 'max_depth': 20}. Best is trial 13 with value: 0.7125171939477304.\n",
            "[I 2024-08-24 03:21:40,694] Trial 22 finished with value: 0.703576341127923 and parameters: {'n_estimators': 184, 'max_depth': 19}. Best is trial 13 with value: 0.7125171939477304.\n",
            "[I 2024-08-24 03:21:44,111] Trial 23 finished with value: 0.6953232462173315 and parameters: {'n_estimators': 153, 'max_depth': 21}. Best is trial 13 with value: 0.7125171939477304.\n",
            "[I 2024-08-24 03:21:48,418] Trial 24 finished with value: 0.7015130674002751 and parameters: {'n_estimators': 191, 'max_depth': 24}. Best is trial 13 with value: 0.7125171939477304.\n",
            "[I 2024-08-24 03:21:52,080] Trial 25 finished with value: 0.7042640990371389 and parameters: {'n_estimators': 167, 'max_depth': 18}. Best is trial 13 with value: 0.7125171939477304.\n",
            "[I 2024-08-24 03:21:55,269] Trial 26 finished with value: 0.6932599724896836 and parameters: {'n_estimators': 142, 'max_depth': 29}. Best is trial 13 with value: 0.7125171939477304.\n",
            "[I 2024-08-24 03:21:57,164] Trial 27 finished with value: 0.7001375515818432 and parameters: {'n_estimators': 88, 'max_depth': 16}. Best is trial 13 with value: 0.7125171939477304.\n",
            "[I 2024-08-24 03:22:01,116] Trial 28 finished with value: 0.6980742778541953 and parameters: {'n_estimators': 199, 'max_depth': 12}. Best is trial 13 with value: 0.7125171939477304.\n",
            "[I 2024-08-24 03:22:05,119] Trial 29 finished with value: 0.6939477303988996 and parameters: {'n_estimators': 178, 'max_depth': 25}. Best is trial 13 with value: 0.7125171939477304.\n",
            "[I 2024-08-24 03:22:08,841] Trial 30 finished with value: 0.6953232462173315 and parameters: {'n_estimators': 167, 'max_depth': 21}. Best is trial 13 with value: 0.7125171939477304.\n",
            "[I 2024-08-24 03:22:13,023] Trial 31 finished with value: 0.7042640990371389 and parameters: {'n_estimators': 189, 'max_depth': 20}. Best is trial 13 with value: 0.7125171939477304.\n",
            "[I 2024-08-24 03:22:17,386] Trial 32 finished with value: 0.6994497936726273 and parameters: {'n_estimators': 196, 'max_depth': 20}. Best is trial 13 with value: 0.7125171939477304.\n",
            "[I 2024-08-24 03:22:21,158] Trial 33 finished with value: 0.703576341127923 and parameters: {'n_estimators': 172, 'max_depth': 18}. Best is trial 13 with value: 0.7125171939477304.\n",
            "[I 2024-08-24 03:22:25,332] Trial 34 finished with value: 0.7015130674002751 and parameters: {'n_estimators': 187, 'max_depth': 29}. Best is trial 13 with value: 0.7125171939477304.\n",
            "[I 2024-08-24 03:22:29,014] Trial 35 finished with value: 0.6953232462173315 and parameters: {'n_estimators': 165, 'max_depth': 32}. Best is trial 13 with value: 0.7125171939477304.\n",
            "[I 2024-08-24 03:22:33,125] Trial 36 finished with value: 0.7008253094910591 and parameters: {'n_estimators': 200, 'max_depth': 13}. Best is trial 13 with value: 0.7125171939477304.\n",
            "[I 2024-08-24 03:22:34,970] Trial 37 finished with value: 0.6891334250343879 and parameters: {'n_estimators': 118, 'max_depth': 8}. Best is trial 13 with value: 0.7125171939477304.\n",
            "[I 2024-08-24 03:22:38,117] Trial 38 finished with value: 0.6939477303988996 and parameters: {'n_estimators': 145, 'max_depth': 16}. Best is trial 13 with value: 0.7125171939477304.\n",
            "[I 2024-08-24 03:22:42,095] Trial 39 finished with value: 0.7090784044016506 and parameters: {'n_estimators': 178, 'max_depth': 24}. Best is trial 13 with value: 0.7125171939477304.\n",
            "[I 2024-08-24 03:22:46,148] Trial 40 finished with value: 0.702200825309491 and parameters: {'n_estimators': 182, 'max_depth': 28}. Best is trial 13 with value: 0.7125171939477304.\n",
            "[I 2024-08-24 03:22:50,014] Trial 41 finished with value: 0.7077028885832187 and parameters: {'n_estimators': 174, 'max_depth': 23}. Best is trial 13 with value: 0.7125171939477304.\n",
            "[I 2024-08-24 03:22:53,901] Trial 42 finished with value: 0.6994497936726273 and parameters: {'n_estimators': 175, 'max_depth': 24}. Best is trial 13 with value: 0.7125171939477304.\n",
            "[I 2024-08-24 03:22:57,477] Trial 43 finished with value: 0.7090784044016506 and parameters: {'n_estimators': 160, 'max_depth': 22}. Best is trial 13 with value: 0.7125171939477304.\n",
            "[I 2024-08-24 03:23:01,001] Trial 44 finished with value: 0.7008253094910591 and parameters: {'n_estimators': 158, 'max_depth': 22}. Best is trial 13 with value: 0.7125171939477304.\n",
            "[I 2024-08-24 03:23:04,400] Trial 45 finished with value: 0.7001375515818432 and parameters: {'n_estimators': 152, 'max_depth': 25}. Best is trial 13 with value: 0.7125171939477304.\n",
            "[I 2024-08-24 03:23:07,456] Trial 46 finished with value: 0.702200825309491 and parameters: {'n_estimators': 137, 'max_depth': 22}. Best is trial 13 with value: 0.7125171939477304.\n",
            "[I 2024-08-24 03:23:10,191] Trial 47 finished with value: 0.6994497936726273 and parameters: {'n_estimators': 123, 'max_depth': 27}. Best is trial 13 with value: 0.7125171939477304.\n",
            "[I 2024-08-24 03:23:13,804] Trial 48 finished with value: 0.703576341127923 and parameters: {'n_estimators': 165, 'max_depth': 17}. Best is trial 13 with value: 0.7125171939477304.\n",
            "[I 2024-08-24 03:23:18,024] Trial 49 finished with value: 0.6966987620357634 and parameters: {'n_estimators': 189, 'max_depth': 24}. Best is trial 13 with value: 0.7125171939477304.\n",
            "[I 2024-08-24 03:23:18,792] Trial 50 finished with value: 0.4972489683631362 and parameters: {'n_estimators': 148, 'max_depth': 2}. Best is trial 13 with value: 0.7125171939477304.\n",
            "[I 2024-08-24 03:23:22,623] Trial 51 finished with value: 0.6987620357634112 and parameters: {'n_estimators': 172, 'max_depth': 23}. Best is trial 13 with value: 0.7125171939477304.\n",
            "[I 2024-08-24 03:23:26,185] Trial 52 finished with value: 0.7028885832187071 and parameters: {'n_estimators': 160, 'max_depth': 21}. Best is trial 13 with value: 0.7125171939477304.\n",
            "[I 2024-08-24 03:23:30,230] Trial 53 finished with value: 0.6994497936726273 and parameters: {'n_estimators': 182, 'max_depth': 19}. Best is trial 13 with value: 0.7125171939477304.\n",
            "[I 2024-08-24 03:23:34,534] Trial 54 finished with value: 0.6946354883081155 and parameters: {'n_estimators': 192, 'max_depth': 26}. Best is trial 13 with value: 0.7125171939477304.\n",
            "[I 2024-08-24 03:23:38,494] Trial 55 finished with value: 0.7097661623108665 and parameters: {'n_estimators': 177, 'max_depth': 23}. Best is trial 13 with value: 0.7125171939477304.\n",
            "[I 2024-08-24 03:23:40,600] Trial 56 finished with value: 0.6994497936726273 and parameters: {'n_estimators': 93, 'max_depth': 25}. Best is trial 13 with value: 0.7125171939477304.\n",
            "[I 2024-08-24 03:23:41,772] Trial 57 finished with value: 0.7077028885832187 and parameters: {'n_estimators': 53, 'max_depth': 19}. Best is trial 13 with value: 0.7125171939477304.\n",
            "[I 2024-08-24 03:23:44,364] Trial 58 finished with value: 0.6905089408528198 and parameters: {'n_estimators': 115, 'max_depth': 22}. Best is trial 13 with value: 0.7125171939477304.\n",
            "[I 2024-08-24 03:23:48,411] Trial 59 finished with value: 0.702200825309491 and parameters: {'n_estimators': 181, 'max_depth': 30}. Best is trial 13 with value: 0.7125171939477304.\n",
            "[I 2024-08-24 03:23:51,997] Trial 60 finished with value: 0.7001375515818432 and parameters: {'n_estimators': 161, 'max_depth': 21}. Best is trial 13 with value: 0.7125171939477304.\n",
            "[I 2024-08-24 03:23:55,858] Trial 61 finished with value: 0.703576341127923 and parameters: {'n_estimators': 174, 'max_depth': 23}. Best is trial 13 with value: 0.7125171939477304.\n",
            "[I 2024-08-24 03:23:58,847] Trial 62 finished with value: 0.7049518569463549 and parameters: {'n_estimators': 134, 'max_depth': 24}. Best is trial 13 with value: 0.7125171939477304.\n",
            "[I 2024-08-24 03:24:03,189] Trial 63 finished with value: 0.7070151306740028 and parameters: {'n_estimators': 194, 'max_depth': 27}. Best is trial 13 with value: 0.7125171939477304.\n",
            "[I 2024-08-24 03:24:07,267] Trial 64 finished with value: 0.6980742778541953 and parameters: {'n_estimators': 184, 'max_depth': 22}. Best is trial 13 with value: 0.7125171939477304.\n",
            "[I 2024-08-24 03:24:11,047] Trial 65 finished with value: 0.702200825309491 and parameters: {'n_estimators': 170, 'max_depth': 20}. Best is trial 13 with value: 0.7125171939477304.\n",
            "[I 2024-08-24 03:24:14,983] Trial 66 finished with value: 0.7104539202200826 and parameters: {'n_estimators': 176, 'max_depth': 23}. Best is trial 13 with value: 0.7125171939477304.\n",
            "[I 2024-08-24 03:24:19,446] Trial 67 finished with value: 0.6932599724896836 and parameters: {'n_estimators': 200, 'max_depth': 25}. Best is trial 13 with value: 0.7125171939477304.\n",
            "[I 2024-08-24 03:24:22,824] Trial 68 finished with value: 0.702200825309491 and parameters: {'n_estimators': 152, 'max_depth': 19}. Best is trial 13 with value: 0.7125171939477304.\n",
            "[I 2024-08-24 03:24:27,038] Trial 69 finished with value: 0.6994497936726273 and parameters: {'n_estimators': 188, 'max_depth': 21}. Best is trial 13 with value: 0.7125171939477304.\n",
            "[I 2024-08-24 03:24:30,993] Trial 70 finished with value: 0.7015130674002751 and parameters: {'n_estimators': 178, 'max_depth': 26}. Best is trial 13 with value: 0.7125171939477304.\n",
            "[I 2024-08-24 03:24:34,610] Trial 71 finished with value: 0.6953232462173315 and parameters: {'n_estimators': 163, 'max_depth': 23}. Best is trial 13 with value: 0.7125171939477304.\n",
            "[I 2024-08-24 03:24:38,905] Trial 72 finished with value: 0.7049518569463549 and parameters: {'n_estimators': 193, 'max_depth': 23}. Best is trial 13 with value: 0.7125171939477304.\n",
            "[I 2024-08-24 03:24:42,855] Trial 73 finished with value: 0.7015130674002751 and parameters: {'n_estimators': 171, 'max_depth': 24}. Best is trial 13 with value: 0.7125171939477304.\n",
            "[I 2024-08-24 03:24:46,811] Trial 74 finished with value: 0.7015130674002751 and parameters: {'n_estimators': 178, 'max_depth': 21}. Best is trial 13 with value: 0.7125171939477304.\n",
            "[I 2024-08-24 03:24:50,871] Trial 75 finished with value: 0.6946354883081155 and parameters: {'n_estimators': 185, 'max_depth': 17}. Best is trial 13 with value: 0.7125171939477304.\n",
            "[I 2024-08-24 03:24:54,336] Trial 76 finished with value: 0.703576341127923 and parameters: {'n_estimators': 156, 'max_depth': 20}. Best is trial 13 with value: 0.7125171939477304.\n",
            "[I 2024-08-24 03:24:58,679] Trial 77 finished with value: 0.7028885832187071 and parameters: {'n_estimators': 193, 'max_depth': 22}. Best is trial 13 with value: 0.7125171939477304.\n",
            "[I 2024-08-24 03:25:01,765] Trial 78 finished with value: 0.7015130674002751 and parameters: {'n_estimators': 139, 'max_depth': 28}. Best is trial 13 with value: 0.7125171939477304.\n",
            "[I 2024-08-24 03:25:05,155] Trial 79 finished with value: 0.7028885832187071 and parameters: {'n_estimators': 149, 'max_depth': 26}. Best is trial 13 with value: 0.7125171939477304.\n",
            "[I 2024-08-24 03:25:09,080] Trial 80 finished with value: 0.7028885832187071 and parameters: {'n_estimators': 176, 'max_depth': 18}. Best is trial 13 with value: 0.7125171939477304.\n",
            "[I 2024-08-24 03:25:10,454] Trial 81 finished with value: 0.702200825309491 and parameters: {'n_estimators': 60, 'max_depth': 20}. Best is trial 13 with value: 0.7125171939477304.\n",
            "[I 2024-08-24 03:25:10,856] Trial 82 finished with value: 0.6781292984869326 and parameters: {'n_estimators': 17, 'max_depth': 19}. Best is trial 13 with value: 0.7125171939477304.\n",
            "[I 2024-08-24 03:25:12,535] Trial 83 finished with value: 0.6911966987620357 and parameters: {'n_estimators': 73, 'max_depth': 25}. Best is trial 13 with value: 0.7125171939477304.\n",
            "[I 2024-08-24 03:25:14,102] Trial 84 finished with value: 0.688445667125172 and parameters: {'n_estimators': 56, 'max_depth': 23}. Best is trial 13 with value: 0.7125171939477304.\n",
            "[I 2024-08-24 03:25:18,092] Trial 85 finished with value: 0.6925722145804677 and parameters: {'n_estimators': 187, 'max_depth': 15}. Best is trial 13 with value: 0.7125171939477304.\n",
            "[I 2024-08-24 03:25:20,148] Trial 86 finished with value: 0.7042640990371389 and parameters: {'n_estimators': 93, 'max_depth': 22}. Best is trial 13 with value: 0.7125171939477304.\n",
            "[I 2024-08-24 03:25:20,661] Trial 87 finished with value: 0.6657496561210454 and parameters: {'n_estimators': 22, 'max_depth': 24}. Best is trial 13 with value: 0.7125171939477304.\n",
            "[I 2024-08-24 03:25:21,274] Trial 88 finished with value: 0.6829436038514443 and parameters: {'n_estimators': 28, 'max_depth': 16}. Best is trial 13 with value: 0.7125171939477304.\n",
            "[I 2024-08-24 03:25:24,961] Trial 89 finished with value: 0.7008253094910591 and parameters: {'n_estimators': 167, 'max_depth': 19}. Best is trial 13 with value: 0.7125171939477304.\n",
            "[I 2024-08-24 03:25:25,949] Trial 90 finished with value: 0.6939477303988996 and parameters: {'n_estimators': 44, 'max_depth': 21}. Best is trial 13 with value: 0.7125171939477304.\n",
            "[I 2024-08-24 03:25:30,341] Trial 91 finished with value: 0.6987620357634112 and parameters: {'n_estimators': 197, 'max_depth': 27}. Best is trial 13 with value: 0.7125171939477304.\n",
            "[I 2024-08-24 03:25:34,682] Trial 92 finished with value: 0.6987620357634112 and parameters: {'n_estimators': 194, 'max_depth': 28}. Best is trial 13 with value: 0.7125171939477304.\n",
            "[I 2024-08-24 03:25:38,721] Trial 93 finished with value: 0.6953232462173315 and parameters: {'n_estimators': 181, 'max_depth': 25}. Best is trial 13 with value: 0.7125171939477304.\n",
            "[I 2024-08-24 03:25:42,917] Trial 94 finished with value: 0.7015130674002751 and parameters: {'n_estimators': 187, 'max_depth': 24}. Best is trial 13 with value: 0.7125171939477304.\n",
            "[I 2024-08-24 03:25:45,390] Trial 95 finished with value: 0.7049518569463549 and parameters: {'n_estimators': 110, 'max_depth': 23}. Best is trial 13 with value: 0.7125171939477304.\n",
            "[I 2024-08-24 03:25:48,189] Trial 96 finished with value: 0.7008253094910591 and parameters: {'n_estimators': 125, 'max_depth': 22}. Best is trial 13 with value: 0.7125171939477304.\n",
            "[I 2024-08-24 03:25:52,470] Trial 97 finished with value: 0.702200825309491 and parameters: {'n_estimators': 196, 'max_depth': 18}. Best is trial 13 with value: 0.7125171939477304.\n",
            "[I 2024-08-24 03:25:56,301] Trial 98 finished with value: 0.7008253094910591 and parameters: {'n_estimators': 173, 'max_depth': 20}. Best is trial 13 with value: 0.7125171939477304.\n",
            "[I 2024-08-24 03:26:00,551] Trial 99 finished with value: 0.7015130674002751 and parameters: {'n_estimators': 191, 'max_depth': 30}. Best is trial 13 with value: 0.7125171939477304.\n"
          ]
        },
        {
          "name": "stdout",
          "output_type": "stream",
          "text": [
            "3.0554051399230957  seconds\n",
            "Classification report saved as classification_report_2024-08-24_03-26-03.txt\n",
            "{'n_estimators': 138, 'max_depth': 23} 0.681758530183727\n"
          ]
        }
      ],
      "source": [
        "best_params, best_score = clasfy.optimize_RF(train_emb, val_emb, test_emb,ny_train, ny_val, ny_test)\n",
        "print(best_params, best_score)"
      ]
    },
    {
      "cell_type": "code",
      "execution_count": null,
      "metadata": {
        "id": "6EAU2T25x3Ft"
      },
      "outputs": [],
      "source": []
    }
  ],
  "metadata": {
    "colab": {
      "provenance": []
    },
    "kernelspec": {
      "display_name": "Python 3 (ipykernel)",
      "language": "python",
      "name": "python3"
    },
    "language_info": {
      "codemirror_mode": {
        "name": "ipython",
        "version": 3
      },
      "file_extension": ".py",
      "mimetype": "text/x-python",
      "name": "python",
      "nbconvert_exporter": "python",
      "pygments_lexer": "ipython3",
      "version": "3.11.9"
    }
  },
  "nbformat": 4,
  "nbformat_minor": 0
}
